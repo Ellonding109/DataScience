{
 "cells": [
  {
   "cell_type": "code",
   "execution_count": 18,
   "id": "c0946b83",
   "metadata": {},
   "outputs": [],
   "source": [
    "import sklearn"
   ]
  },
  {
   "cell_type": "code",
   "execution_count": 19,
   "id": "1c1448d3",
   "metadata": {},
   "outputs": [
    {
     "name": "stdout",
     "output_type": "stream",
     "text": [
      "hello there sit back and be ready to explor the field of data\n"
     ]
    }
   ],
   "source": [
    "print(\"hello there sit back and be ready to explor the field of data\")"
   ]
  },
  {
   "cell_type": "code",
   "execution_count": 20,
   "id": "bd2d37d7-a9ca-4fbf-8ece-c111c2f73edf",
   "metadata": {},
   "outputs": [],
   "source": [
    "#import the necessary modules\n",
    "import pandas as pd\n",
    "import numpy as np\n",
    "import matplotlib.pyplot as plt\n",
    "import seaborn as sns\n",
    "from scipy import stats"
   ]
  },
  {
   "cell_type": "code",
   "execution_count": 21,
   "id": "aa8ca20d-0b52-4d0f-9168-f46e76d4f0a9",
   "metadata": {},
   "outputs": [],
   "source": [
    "# upload the data to the environment\n",
    "data = pd.read_csv(\"/home/bravo/Downloads/iris.csv\")"
   ]
  },
  {
   "cell_type": "code",
   "execution_count": 22,
   "id": "3a6134ac-9fb0-4803-ad46-82df6f96021b",
   "metadata": {},
   "outputs": [
    {
     "name": "stdout",
     "output_type": "stream",
     "text": [
      "     5.1  3.5  1.4  0.2     Iris-setosa\n",
      "0    4.9  3.0  1.4  0.2     Iris-setosa\n",
      "1    4.7  3.2  1.3  0.2     Iris-setosa\n",
      "2    4.6  3.1  1.5  0.2     Iris-setosa\n",
      "3    5.0  3.6  1.4  0.2     Iris-setosa\n",
      "4    5.4  3.9  1.7  0.4     Iris-setosa\n",
      "..   ...  ...  ...  ...             ...\n",
      "144  6.7  3.0  5.2  2.3  Iris-virginica\n",
      "145  6.3  2.5  5.0  1.9  Iris-virginica\n",
      "146  6.5  3.0  5.2  2.0  Iris-virginica\n",
      "147  6.2  3.4  5.4  2.3  Iris-virginica\n",
      "148  5.9  3.0  5.1  1.8  Iris-virginica\n",
      "\n",
      "[149 rows x 5 columns]\n"
     ]
    }
   ],
   "source": [
    "print(data)"
   ]
  },
  {
   "cell_type": "code",
   "execution_count": 23,
   "id": "5f0c8b29-afb0-436a-ada3-cc079f816066",
   "metadata": {},
   "outputs": [
    {
     "name": "stdout",
     "output_type": "stream",
     "text": [
      "<class 'pandas.core.frame.DataFrame'>\n",
      "RangeIndex: 149 entries, 0 to 148\n",
      "Data columns (total 5 columns):\n",
      " #   Column       Non-Null Count  Dtype  \n",
      "---  ------       --------------  -----  \n",
      " 0   5.1          149 non-null    float64\n",
      " 1   3.5          149 non-null    float64\n",
      " 2   1.4          149 non-null    float64\n",
      " 3   0.2          149 non-null    float64\n",
      " 4   Iris-setosa  149 non-null    object \n",
      "dtypes: float64(4), object(1)\n",
      "memory usage: 5.9+ KB\n",
      "here is the general info: \n",
      " None\n"
     ]
    }
   ],
   "source": [
    "#get the general information of the data\n",
    "print(\"here is the general info: \\n\", data.info())"
   ]
  },
  {
   "cell_type": "raw",
   "id": "de0cfc31-6486-478d-8517-0b7331350708",
   "metadata": {},
   "source": [
    "# Get the general information of the data\n"
   ]
  },
  {
   "cell_type": "code",
   "execution_count": 24,
   "id": "2a6b8aa1-198a-4057-9f30-f872ff5f9915",
   "metadata": {},
   "outputs": [
    {
     "name": "stdout",
     "output_type": "stream",
     "text": [
      "the header section : \n",
      "    5.1  3.5  1.4  0.2  Iris-setosa\n",
      "0  4.9  3.0  1.4  0.2  Iris-setosa\n",
      "1  4.7  3.2  1.3  0.2  Iris-setosa\n",
      "2  4.6  3.1  1.5  0.2  Iris-setosa\n",
      "3  5.0  3.6  1.4  0.2  Iris-setosa\n",
      "4  5.4  3.9  1.7  0.4  Iris-setosa\n"
     ]
    }
   ],
   "source": [
    "# Get the header section of the data\n",
    "print (\"the header section : \\n\", data.head())"
   ]
  },
  {
   "cell_type": "code",
   "execution_count": 25,
   "id": "47e94ec4-fc0c-4f07-aa61-574ff340d84d",
   "metadata": {},
   "outputs": [
    {
     "name": "stdout",
     "output_type": "stream",
     "text": [
      "The shape is: \n",
      " (149, 5)\n"
     ]
    }
   ],
   "source": [
    "#get the shape of the data\n",
    "print (\"The shape is: \\n\", data.shape)"
   ]
  },
  {
   "cell_type": "code",
   "execution_count": 26,
   "id": "25e02247-f487-4bd2-95a6-7aaac951365a",
   "metadata": {},
   "outputs": [
    {
     "name": "stdout",
     "output_type": "stream",
     "text": [
      "Here is the summary : \n",
      "               5.1         3.5         1.4         0.2\n",
      "count  149.000000  149.000000  149.000000  149.000000\n",
      "mean     5.848322    3.051007    3.774497    1.205369\n",
      "std      0.828594    0.433499    1.759651    0.761292\n",
      "min      4.300000    2.000000    1.000000    0.100000\n",
      "25%      5.100000    2.800000    1.600000    0.300000\n",
      "50%      5.800000    3.000000    4.400000    1.300000\n",
      "75%      6.400000    3.300000    5.100000    1.800000\n",
      "max      7.900000    4.400000    6.900000    2.500000\n"
     ]
    }
   ],
   "source": [
    "#Get the statistical summary of the data \n",
    "print(\"Here is the summary : \\n\", data.describe())"
   ]
  },
  {
   "cell_type": "code",
   "execution_count": 27,
   "id": "4ba3d57e-5e8f-4daf-8e93-de02af75345d",
   "metadata": {},
   "outputs": [
    {
     "name": "stdout",
     "output_type": "stream",
     "text": [
      "Here are the columns in the data : \n",
      " Index(['5.1', '3.5', '1.4', '0.2', 'Iris-setosa'], dtype='object')\n"
     ]
    }
   ],
   "source": [
    "#Get the names of the data_columns\n",
    "print ('Here are the columns in the data : \\n', data.columns)"
   ]
  },
  {
   "cell_type": "code",
   "execution_count": 28,
   "id": "f6164e3b-aae6-437e-b40e-f46c6cef07f7",
   "metadata": {},
   "outputs": [
    {
     "name": "stdout",
     "output_type": "stream",
     "text": [
      "\n",
      "                5.1         3.5         1.4         0.2      Iris-setosa\n",
      "count   149.000000  149.000000  149.000000  149.000000              149\n",
      "unique         NaN         NaN         NaN         NaN                3\n",
      "top            NaN         NaN         NaN         NaN  Iris-versicolor\n",
      "freq           NaN         NaN         NaN         NaN               50\n",
      "mean      5.848322    3.051007    3.774497    1.205369              NaN\n",
      "std       0.828594    0.433499    1.759651    0.761292              NaN\n",
      "min       4.300000    2.000000    1.000000    0.100000              NaN\n",
      "25%       5.100000    2.800000    1.600000    0.300000              NaN\n",
      "50%       5.800000    3.000000    4.400000    1.300000              NaN\n",
      "75%       6.400000    3.300000    5.100000    1.800000              NaN\n",
      "max       7.900000    4.400000    6.900000    2.500000              NaN\n"
     ]
    }
   ],
   "source": [
    "#Get the statistical values of all the columns on the data\n",
    "print('\\n',data.describe(include = 'all'))"
   ]
  },
  {
   "cell_type": "code",
   "execution_count": 29,
   "id": "d9f58bef-17be-43fe-95fe-aed13a70a3b6",
   "metadata": {},
   "outputs": [
    {
     "name": "stdout",
     "output_type": "stream",
     "text": [
      "The missing values are : \n",
      "  5.1            0\n",
      "3.5            0\n",
      "1.4            0\n",
      "0.2            0\n",
      "Iris-setosa    0\n",
      "dtype: int64\n"
     ]
    }
   ],
   "source": [
    "#Cheak for the missing data values in the dataset\n",
    "print(\"The missing values are : \\n \", data.isnull().sum())"
   ]
  },
  {
   "cell_type": "code",
   "execution_count": 30,
   "id": "9f4bbe9b-f786-405a-ac68-b66b83d9cace",
   "metadata": {},
   "outputs": [
    {
     "name": "stdout",
     "output_type": "stream",
     "text": [
      "unique :\n",
      " 5.1            35\n",
      "3.5            23\n",
      "1.4            43\n",
      "0.2            22\n",
      "Iris-setosa     3\n",
      "dtype: int64\n"
     ]
    }
   ],
   "source": [
    "#check fot the unique data points in the dataset\n",
    "print(\"unique :\\n\", data.nunique())"
   ]
  },
  {
   "cell_type": "code",
   "execution_count": 31,
   "id": "72d373c3-78d0-482c-ac5c-3284581e1aff",
   "metadata": {},
   "outputs": [
    {
     "name": "stdout",
     "output_type": "stream",
     "text": [
      "5.1            float64\n",
      "3.5            float64\n",
      "1.4            float64\n",
      "0.2            float64\n",
      "Iris-setosa     object\n",
      "dtype: object\n"
     ]
    }
   ],
   "source": [
    "#Check the data types\n",
    "print (data.dtypes)"
   ]
  },
  {
   "cell_type": "code",
   "execution_count": 32,
   "id": "5bdcd54e-3d68-4e65-a77b-dde4cea79c4d",
   "metadata": {},
   "outputs": [
    {
     "data": {
      "image/png": "[encoded data removed]",
      "text/plain": [
       "<Figure size 640x480 with 1 Axes>"
      ]
     },
     "metadata": {},
     "output_type": "display_data"
    }
   ],
   "source": [
    "#Creating a count plot for the raget data\n",
    "sns.countplot(data = data, x = '5.1')\n",
    "plt.title('the destribution plot')\n",
    "plt.show()"
   ]
  },
  {
   "cell_type": "code",
   "execution_count": 33,
   "id": "d3c3c9f9-d181-4aea-ae66-b894852c674c",
   "metadata": {},
   "outputs": [
    {
     "name": "stdout",
     "output_type": "stream",
     "text": [
      "[1. 2. 4.]\n"
     ]
    }
   ],
   "source": [
    "# the field of arrays \n",
    "# a one dimentional array\n",
    "\n",
    "a = np.array([1,2,4],dtype = float)\n",
    "print(a)"
   ]
  },
  {
   "cell_type": "code",
   "execution_count": 34,
   "id": "4671d22c-ee02-4d99-82a7-5320e8c3e184",
   "metadata": {},
   "outputs": [
    {
     "name": "stdout",
     "output_type": "stream",
     "text": [
      "[[4 7 8]\n",
      " [1 6 7]]\n"
     ]
    },
    {
     "data": {
      "text/plain": [
       "2"
      ]
     },
     "execution_count": 34,
     "metadata": {},
     "output_type": "execute_result"
    }
   ],
   "source": [
    "# A two dimentional array\n",
    "\n",
    "b = np.array([(4,7,8),(1,6,7)])\n",
    "print(b)\n",
    "b.ndim"
   ]
  },
  {
   "cell_type": "code",
   "execution_count": 35,
   "id": "9b54fa0c-08f2-42c8-8393-baaa4a7b9572",
   "metadata": {},
   "outputs": [
    {
     "name": "stdout",
     "output_type": "stream",
     "text": [
      "[[[ 4. 56.  5.]\n",
      "  [ 6.  2.  6.]]\n",
      "\n",
      " [[ 7.  9.  3.]\n",
      "  [ 3.  6.  7.]]]\n"
     ]
    },
    {
     "data": {
      "text/plain": [
       "3"
      ]
     },
     "execution_count": 35,
     "metadata": {},
     "output_type": "execute_result"
    }
   ],
   "source": [
    "#A three d array\n",
    "\n",
    "c = np.array([[(4,56,5),(6,2,6,)],[(7,9,3),(3,6,7)]],dtype = float)\n",
    "print(c)\n",
    "c.ndim"
   ]
  },
  {
   "cell_type": "code",
   "execution_count": 36,
   "id": "52a14971-5baa-4284-ae26-13640197010a",
   "metadata": {},
   "outputs": [
    {
     "name": "stdout",
     "output_type": "stream",
     "text": [
      "[[0. 0. 0.]\n",
      " [0. 0. 0.]\n",
      " [0. 0. 0.]]\n"
     ]
    },
    {
     "data": {
      "text/plain": [
       "array([[[[1., 1., 1.],\n",
       "         [1., 1., 1.],\n",
       "         [1., 1., 1.],\n",
       "         [1., 1., 1.]],\n",
       "\n",
       "        [[1., 1., 1.],\n",
       "         [1., 1., 1.],\n",
       "         [1., 1., 1.],\n",
       "         [1., 1., 1.]]],\n",
       "\n",
       "\n",
       "       [[[1., 1., 1.],\n",
       "         [1., 1., 1.],\n",
       "         [1., 1., 1.],\n",
       "         [1., 1., 1.]],\n",
       "\n",
       "        [[1., 1., 1.],\n",
       "         [1., 1., 1.],\n",
       "         [1., 1., 1.],\n",
       "         [1., 1., 1.]]],\n",
       "\n",
       "\n",
       "       [[[1., 1., 1.],\n",
       "         [1., 1., 1.],\n",
       "         [1., 1., 1.],\n",
       "         [1., 1., 1.]],\n",
       "\n",
       "        [[1., 1., 1.],\n",
       "         [1., 1., 1.],\n",
       "         [1., 1., 1.],\n",
       "         [1., 1., 1.]]],\n",
       "\n",
       "\n",
       "       [[[1., 1., 1.],\n",
       "         [1., 1., 1.],\n",
       "         [1., 1., 1.],\n",
       "         [1., 1., 1.]],\n",
       "\n",
       "        [[1., 1., 1.],\n",
       "         [1., 1., 1.],\n",
       "         [1., 1., 1.],\n",
       "         [1., 1., 1.]]]])"
      ]
     },
     "execution_count": 36,
     "metadata": {},
     "output_type": "execute_result"
    }
   ],
   "source": [
    "# Numpy operations\n",
    "print(np.zeros((3,3)))\n",
    "np.ones((4,2,4,3))\n"
   ]
  },
  {
   "cell_type": "code",
   "execution_count": 37,
   "id": "cc667ce6-9c6b-407c-bc80-789b4e33ddfb",
   "metadata": {},
   "outputs": [
    {
     "name": "stdout",
     "output_type": "stream",
     "text": [
      "this is the end of the todays trial let it be the best i have like ever had\n"
     ]
    }
   ],
   "source": [
    "print ('this is the end of the todays trial let it be the best i have like ever had')\n"
   ]
  },
  {
   "cell_type": "code",
   "execution_count": 38,
   "id": "7cb3037a-6167-4dba-9809-35fdc60aecec",
   "metadata": {},
   "outputs": [
    {
     "name": "stdout",
     "output_type": "stream",
     "text": [
      "[5]\n"
     ]
    }
   ],
   "source": [
    "d = np.arange(5,6,5)\n",
    "print(d)"
   ]
  },
  {
   "cell_type": "code",
   "execution_count": 39,
   "id": "9700bd30-bc4e-4f3c-bdc3-8a1402300817",
   "metadata": {},
   "outputs": [],
   "source": [
    "e = np.linspace (0,2,9)"
   ]
  },
  {
   "cell_type": "raw",
   "id": "7e09973f-0951-401d-ac03-b14fcc746dda",
   "metadata": {},
   "source": [
    "print(e)"
   ]
  },
  {
   "cell_type": "code",
   "execution_count": 40,
   "id": "74cd213f-1eb9-4c19-88c2-fe40fd091fe0",
   "metadata": {},
   "outputs": [
    {
     "name": "stdout",
     "output_type": "stream",
     "text": [
      "[0.   0.25 0.5  0.75 1.   1.25 1.5  1.75 2.  ]\n"
     ]
    }
   ],
   "source": [
    "print(e)"
   ]
  },
  {
   "cell_type": "code",
   "execution_count": 41,
   "id": "54b541d0-e925-4261-9497-07e33725cb85",
   "metadata": {},
   "outputs": [],
   "source": [
    "f = np.full((3,4),4)"
   ]
  },
  {
   "cell_type": "code",
   "execution_count": 42,
   "id": "5dad07ac-e0d8-4fa4-8cac-54987dc44825",
   "metadata": {},
   "outputs": [
    {
     "data": {
      "text/plain": [
       "array([[4, 4, 4, 4],\n",
       "       [4, 4, 4, 4],\n",
       "       [4, 4, 4, 4]])"
      ]
     },
     "execution_count": 42,
     "metadata": {},
     "output_type": "execute_result"
    }
   ],
   "source": [
    "f"
   ]
  },
  {
   "cell_type": "code",
   "execution_count": 43,
   "id": "cce228e7-a486-4bbd-8207-7f3fbdaa3686",
   "metadata": {},
   "outputs": [],
   "source": [
    "g=np.eye(6)"
   ]
  },
  {
   "cell_type": "code",
   "execution_count": 44,
   "id": "c39e3156-948d-4127-a0a0-7fbf0b7540a3",
   "metadata": {},
   "outputs": [
    {
     "data": {
      "text/plain": [
       "array([[1., 0., 0., 0., 0., 0.],\n",
       "       [0., 1., 0., 0., 0., 0.],\n",
       "       [0., 0., 1., 0., 0., 0.],\n",
       "       [0., 0., 0., 1., 0., 0.],\n",
       "       [0., 0., 0., 0., 1., 0.],\n",
       "       [0., 0., 0., 0., 0., 1.]])"
      ]
     },
     "execution_count": 44,
     "metadata": {},
     "output_type": "execute_result"
    }
   ],
   "source": [
    "g"
   ]
  },
  {
   "cell_type": "code",
   "execution_count": 45,
   "id": "9c79baa4-981c-41f1-83f5-2bf100b6785d",
   "metadata": {},
   "outputs": [],
   "source": [
    "h = np.empty((3,4))"
   ]
  },
  {
   "cell_type": "code",
   "execution_count": 46,
   "id": "8a5371e1-bbdd-4e05-b49e-9b9faf8655ea",
   "metadata": {},
   "outputs": [
    {
     "name": "stdout",
     "output_type": "stream",
     "text": [
      "[[ 4. 56.  5.  6.]\n",
      " [ 2.  6.  7.  9.]\n",
      " [ 3.  3.  6.  7.]]\n"
     ]
    },
    {
     "data": {
      "text/plain": [
       "[array([[ 4., 56.,  5.,  6.]]),\n",
       " array([[2., 6., 7., 9.]]),\n",
       " array([[3., 3., 6., 7.]])]"
      ]
     },
     "execution_count": 46,
     "metadata": {},
     "output_type": "execute_result"
    }
   ],
   "source": [
    "print(h)\n",
    "np.vsplit(h,3)"
   ]
  },
  {
   "cell_type": "code",
   "execution_count": 47,
   "id": "92336d3f-060e-45a8-8ae9-0fe090b7c058",
   "metadata": {},
   "outputs": [],
   "source": [
    "i = np.random.random((2,3))"
   ]
  },
  {
   "cell_type": "code",
   "execution_count": 48,
   "id": "088f05a3-d3dc-48e8-82e8-0a125a758b19",
   "metadata": {},
   "outputs": [
    {
     "data": {
      "text/plain": [
       "array([[0.3046287 , 0.98971564, 0.70626154],\n",
       "       [0.78178145, 0.941717  , 0.74604964]])"
      ]
     },
     "execution_count": 48,
     "metadata": {},
     "output_type": "execute_result"
    }
   ],
   "source": [
    "i"
   ]
  },
  {
   "cell_type": "code",
   "execution_count": 49,
   "id": "6843023c-04bd-4bef-a18c-e5d9935b6793",
   "metadata": {},
   "outputs": [],
   "source": [
    "a = np.array([1,2,3,4])\n",
    "b = np.array([2,3,4,5],dtype = 'int16')"
   ]
  },
  {
   "cell_type": "code",
   "execution_count": 50,
   "id": "67085c69-478f-4751-8418-c9ed85f89702",
   "metadata": {},
   "outputs": [
    {
     "data": {
      "text/plain": [
       "array([ 2,  6, 12, 20])"
      ]
     },
     "execution_count": 50,
     "metadata": {},
     "output_type": "execute_result"
    }
   ],
   "source": [
    "a*b"
   ]
  },
  {
   "cell_type": "code",
   "execution_count": 51,
   "id": "9ccb9135-0340-4887-86ac-15055da904b2",
   "metadata": {},
   "outputs": [
    {
     "data": {
      "text/plain": [
       "1"
      ]
     },
     "execution_count": 51,
     "metadata": {},
     "output_type": "execute_result"
    }
   ],
   "source": [
    "#Getting the dimention\n",
    "a.ndim"
   ]
  },
  {
   "cell_type": "code",
   "execution_count": 52,
   "id": "d92e4722-3c55-4615-9444-aa9d8bc07d8d",
   "metadata": {},
   "outputs": [
    {
     "data": {
      "text/plain": [
       "2"
      ]
     },
     "execution_count": 52,
     "metadata": {},
     "output_type": "execute_result"
    }
   ],
   "source": [
    "f.ndim"
   ]
  },
  {
   "cell_type": "code",
   "execution_count": 53,
   "id": "ac59f317-5144-44e4-8c3e-f63738e1ef60",
   "metadata": {},
   "outputs": [
    {
     "name": "stdout",
     "output_type": "stream",
     "text": [
      "2\n",
      "4\n",
      "8\n",
      "(4,)\n"
     ]
    },
    {
     "data": {
      "text/plain": [
       "dtype('int16')"
      ]
     },
     "execution_count": 53,
     "metadata": {},
     "output_type": "execute_result"
    }
   ],
   "source": [
    "print(b.itemsize)\n",
    "print(b.size)\n",
    "print(b.itemsize*b.size)\n",
    "print(b.shape)\n",
    "b.dtype\n"
   ]
  },
  {
   "cell_type": "code",
   "execution_count": 54,
   "id": "ab3a711d-2ff9-4ef6-b0ff-d515c9b03d36",
   "metadata": {},
   "outputs": [
    {
     "name": "stdout",
     "output_type": "stream",
     "text": [
      "[[ 2  3  5  7  5  3  4]\n",
      " [ 2 46  6 76  8  4  2]]\n"
     ]
    }
   ],
   "source": [
    "# Get te specific ellements\n",
    "a = np.array([[2,3,5,7,5,3,4],[2,46,6,76,8,4,2]])\n",
    "print(a)"
   ]
  },
  {
   "cell_type": "code",
   "execution_count": 55,
   "id": "580e6ec1-6a4d-483b-b756-4c32d3af3061",
   "metadata": {},
   "outputs": [
    {
     "name": "stdout",
     "output_type": "stream",
     "text": [
      "5\n",
      "[ 2 46  6 76  8  4  2]\n",
      "[ 3 46]\n",
      "[ 2 46  6 76  8]\n"
     ]
    }
   ],
   "source": [
    "# Get the specific items in the array\n",
    "print(a[0,4])\n",
    "# Print the second row\n",
    "print(a[1,:])\n",
    "# Print the second column\n",
    "print(a[:,-6])\n",
    "# print the second row from the second column onwards\n",
    "print(a[1,:-2])"
   ]
  },
  {
   "cell_type": "code",
   "execution_count": 56,
   "id": "9ab6a1da-bb9a-44b5-868f-96ddf6b3e8f3",
   "metadata": {},
   "outputs": [
    {
     "name": "stdout",
     "output_type": "stream",
     "text": [
      "[3 5 7 5 3]\n",
      "[46  6 76  8  4]\n"
     ]
    }
   ],
   "source": [
    "# Getting a little bit facy in here \n",
    "# Try and get the numbers between the rows \n",
    "print (a[0,1:-1])\n",
    "# Think of jumping some numbers\n",
    "print (a[1,1:-1:1])"
   ]
  },
  {
   "cell_type": "code",
   "execution_count": 57,
   "id": "4915ecba-163c-40b9-8a60-76456296680e",
   "metadata": {},
   "outputs": [],
   "source": [
    "# changing the values\n",
    "a[0,2] = 20\n"
   ]
  },
  {
   "cell_type": "code",
   "execution_count": 58,
   "id": "831e8de7-17b3-4491-a0e3-2765a4ee168b",
   "metadata": {},
   "outputs": [
    {
     "name": "stdout",
     "output_type": "stream",
     "text": [
      "[[ 2  3 20  7  5  3  4]\n",
      " [ 2 46  6 76  8  4  2]]\n",
      "[[ 6  6  6  6  6  3  4]\n",
      " [ 2 46  6 76  8  4  2]]\n"
     ]
    }
   ],
   "source": [
    "print(a)\n",
    "a[0,:-2] = 6\n",
    "print(a)"
   ]
  },
  {
   "cell_type": "code",
   "execution_count": 59,
   "id": "d20cfb69-ac89-49e9-a470-205c61856deb",
   "metadata": {},
   "outputs": [
    {
     "name": "stdout",
     "output_type": "stream",
     "text": [
      "[[[ 1  3  5 67 75  4]\n",
      "  [ 6  5  3  5 67  7]\n",
      "  [ 3  5  7  8  9  3]\n",
      "  [ 2  3  4  5  7  8]]]\n"
     ]
    }
   ],
   "source": [
    "# Access the elements of a three d arry\n",
    "b = np.array([[[1,3,5,67,75,4],[6,5,3,5,67,7],[3,5,7,8,9,3],[2,3,4,5,7,8]]])\n",
    "print(b)"
   ]
  },
  {
   "cell_type": "code",
   "execution_count": 60,
   "id": "0a2fa8ea-f201-4dc8-bbc1-f00db41bfe62",
   "metadata": {},
   "outputs": [
    {
     "name": "stdout",
     "output_type": "stream",
     "text": [
      "3\n",
      "[2 4 7]\n"
     ]
    }
   ],
   "source": [
    "print(b.ndim)\n",
    "print(b[0,3,:-1:2])"
   ]
  },
  {
   "cell_type": "code",
   "execution_count": 61,
   "id": "b33c3d09-74f2-42f4-b83c-f0a85feeb134",
   "metadata": {},
   "outputs": [],
   "source": [
    "hello = np.zeros((2,4))"
   ]
  },
  {
   "cell_type": "code",
   "execution_count": 62,
   "id": "84ed8744-f112-4dc3-a7e2-5d4730dfac54",
   "metadata": {},
   "outputs": [
    {
     "data": {
      "text/plain": [
       "array([[0., 0., 0., 0.],\n",
       "       [0., 0., 0., 0.]])"
      ]
     },
     "execution_count": 62,
     "metadata": {},
     "output_type": "execute_result"
    }
   ],
   "source": [
    "hello"
   ]
  },
  {
   "cell_type": "code",
   "execution_count": 63,
   "id": "89f38a02-6729-4c6d-8996-475356a6c3ef",
   "metadata": {},
   "outputs": [],
   "source": [
    "there = np.eye((3))"
   ]
  },
  {
   "cell_type": "code",
   "execution_count": 64,
   "id": "0686c207-8607-4d50-b159-58a899f609ae",
   "metadata": {
    "jupyter": {
     "source_hidden": true
    }
   },
   "outputs": [
    {
     "data": {
      "text/plain": [
       "array([[1., 0., 0.],\n",
       "       [0., 1., 0.],\n",
       "       [0., 0., 1.]])"
      ]
     },
     "execution_count": 64,
     "metadata": {},
     "output_type": "execute_result"
    }
   ],
   "source": [
    "there"
   ]
  },
  {
   "cell_type": "code",
   "execution_count": 65,
   "id": "57e220f3-1ff5-4276-9fe4-fc80fc84ce99",
   "metadata": {},
   "outputs": [],
   "source": [
    "is_ones = np.ones((2),dtype = 'int32')"
   ]
  },
  {
   "cell_type": "code",
   "execution_count": 66,
   "id": "423434c8-ade2-4d96-bfd0-2c5a1798f0ea",
   "metadata": {},
   "outputs": [
    {
     "data": {
      "text/plain": [
       "array([1, 1], dtype=int32)"
      ]
     },
     "execution_count": 66,
     "metadata": {},
     "output_type": "execute_result"
    }
   ],
   "source": [
    "is_ones"
   ]
  },
  {
   "cell_type": "code",
   "execution_count": 67,
   "id": "8eae6fe1-1079-4107-9e0c-649fd2f3bcbb",
   "metadata": {},
   "outputs": [],
   "source": [
    "# The specified numbers"
   ]
  },
  {
   "cell_type": "code",
   "execution_count": 68,
   "id": "48e4f039-3776-40c3-b2cd-3d4a6466ed32",
   "metadata": {},
   "outputs": [],
   "source": [
    "only_specified = np.full((2,2),11)"
   ]
  },
  {
   "cell_type": "code",
   "execution_count": 69,
   "id": "9f5527ea-7be5-45c6-affc-d2d1fe9d5e9d",
   "metadata": {},
   "outputs": [
    {
     "data": {
      "text/plain": [
       "array([[11, 11],\n",
       "       [11, 11]])"
      ]
     },
     "execution_count": 69,
     "metadata": {},
     "output_type": "execute_result"
    }
   ],
   "source": [
    "only_specified"
   ]
  },
  {
   "cell_type": "code",
   "execution_count": 70,
   "id": "670915b1-3530-43aa-872a-807da9ec69a5",
   "metadata": {},
   "outputs": [],
   "source": [
    "# Copy the shape of another array\n",
    "copy = np.full_like(hello,3,dtype = 'int16')"
   ]
  },
  {
   "cell_type": "code",
   "execution_count": 71,
   "id": "8093b9fb-4b7e-4857-9d68-cdeaebac6046",
   "metadata": {},
   "outputs": [
    {
     "data": {
      "text/plain": [
       "array([[3, 3, 3, 3],\n",
       "       [3, 3, 3, 3]], dtype=int16)"
      ]
     },
     "execution_count": 71,
     "metadata": {},
     "output_type": "execute_result"
    }
   ],
   "source": [
    "copy"
   ]
  },
  {
   "cell_type": "code",
   "execution_count": 72,
   "id": "978e926e-d2b1-4391-909c-761e146c8db4",
   "metadata": {},
   "outputs": [],
   "source": [
    "copy = np.full(hello.shape,2,dtype ='int16')"
   ]
  },
  {
   "cell_type": "code",
   "execution_count": null,
   "id": "9e5602bc-7874-4a7f-8aca-8ab9192a7a86",
   "metadata": {},
   "outputs": [],
   "source": []
  },
  {
   "cell_type": "raw",
   "id": "5241c9e7-6c8a-4fba-81e9-0988d8f3691f",
   "metadata": {},
   "source": [
    "copy"
   ]
  },
  {
   "cell_type": "code",
   "execution_count": 73,
   "id": "53322931-adc4-4a07-be57-516afc1798af",
   "metadata": {},
   "outputs": [],
   "source": [
    "# Using the random numbers \n",
    "rand = np.random.random((3,4))"
   ]
  },
  {
   "cell_type": "code",
   "execution_count": 74,
   "id": "b0cf1485-6aac-4f07-bdbb-731ffac9f6da",
   "metadata": {},
   "outputs": [
    {
     "data": {
      "text/plain": [
       "array([[0.39782624, 0.50853595, 0.4301469 , 0.28595525],\n",
       "       [0.42632629, 0.22529506, 0.19091942, 0.51554215],\n",
       "       [0.98523462, 0.51754398, 0.90656698, 0.37517837]])"
      ]
     },
     "execution_count": 74,
     "metadata": {},
     "output_type": "execute_result"
    }
   ],
   "source": [
    "rand"
   ]
  },
  {
   "cell_type": "code",
   "execution_count": 75,
   "id": "74fa93d5-0f25-40e4-895a-1138d878ed3e",
   "metadata": {},
   "outputs": [],
   "source": [
    "copy = np.random.rand(3,3)"
   ]
  },
  {
   "cell_type": "code",
   "execution_count": 76,
   "id": "aa48233f-e10f-42f0-a604-22fe7eec47ca",
   "metadata": {},
   "outputs": [
    {
     "data": {
      "text/plain": [
       "array([[0.79051303, 0.51483706, 0.47910599],\n",
       "       [0.16382228, 0.88185777, 0.93877429],\n",
       "       [0.82786513, 0.12674394, 0.89542498]])"
      ]
     },
     "execution_count": 76,
     "metadata": {},
     "output_type": "execute_result"
    }
   ],
   "source": [
    "copy"
   ]
  },
  {
   "cell_type": "code",
   "execution_count": 77,
   "id": "e7e7ef90-6818-4acb-a1bc-dc0ad5f8dbcc",
   "metadata": {},
   "outputs": [],
   "source": [
    "# To copy the shape then we use the random_sample\n",
    "copy2 = np.random.random_sample(copy.shape)"
   ]
  },
  {
   "cell_type": "code",
   "execution_count": 78,
   "id": "f8438c5b-750e-4ab7-b626-c161a9db3cc3",
   "metadata": {},
   "outputs": [
    {
     "data": {
      "text/plain": [
       "array([[0.38246824, 0.76141417, 0.0290309 ],\n",
       "       [0.02110202, 0.43454066, 0.18042552],\n",
       "       [0.16197857, 0.0183903 , 0.34908255]])"
      ]
     },
     "execution_count": 78,
     "metadata": {},
     "output_type": "execute_result"
    }
   ],
   "source": [
    "copy2\n"
   ]
  },
  {
   "cell_type": "code",
   "execution_count": 79,
   "id": "4b6c099c-7b52-41b2-817f-56b3402c0c6a",
   "metadata": {},
   "outputs": [
    {
     "data": {
      "text/plain": [
       "array([[2, 3],\n",
       "       [3, 3]])"
      ]
     },
     "execution_count": 79,
     "metadata": {},
     "output_type": "execute_result"
    }
   ],
   "source": [
    "# Use the intager random values\n",
    "np.random.randint(1,4,size = (2,2))"
   ]
  },
  {
   "cell_type": "code",
   "execution_count": 80,
   "id": "d4aa5489-422c-41fd-8d09-61b923d225b7",
   "metadata": {},
   "outputs": [
    {
     "data": {
      "text/plain": [
       "array([[1., 0., 0.],\n",
       "       [0., 1., 0.],\n",
       "       [0., 0., 1.]])"
      ]
     },
     "execution_count": 80,
     "metadata": {},
     "output_type": "execute_result"
    }
   ],
   "source": [
    "np.identity(3)"
   ]
  },
  {
   "cell_type": "code",
   "execution_count": 81,
   "id": "873b6a99-a850-4329-9eab-dd3044dfdf7e",
   "metadata": {},
   "outputs": [
    {
     "data": {
      "text/plain": [
       "array([0.79051303, 0.79051303, 0.79051303, 0.51483706, 0.51483706,\n",
       "       0.51483706, 0.47910599, 0.47910599, 0.47910599, 0.16382228,\n",
       "       0.16382228, 0.16382228, 0.88185777, 0.88185777, 0.88185777,\n",
       "       0.93877429, 0.93877429, 0.93877429, 0.82786513, 0.82786513,\n",
       "       0.82786513, 0.12674394, 0.12674394, 0.12674394, 0.89542498,\n",
       "       0.89542498, 0.89542498])"
      ]
     },
     "execution_count": 81,
     "metadata": {},
     "output_type": "execute_result"
    }
   ],
   "source": [
    "np.repeat(copy,3)"
   ]
  },
  {
   "cell_type": "code",
   "execution_count": 82,
   "id": "8e3e7a81-c715-47e6-828c-404191148ca8",
   "metadata": {},
   "outputs": [],
   "source": [
    "a = np.array([1,3,4,5])\n",
    "a\n",
    "a+=5"
   ]
  },
  {
   "cell_type": "code",
   "execution_count": 83,
   "id": "df5de681-b69f-4a5a-9904-04bb36505a8c",
   "metadata": {},
   "outputs": [],
   "source": [
    "a\n",
    "b= np.array([0,35,7,3])"
   ]
  },
  {
   "cell_type": "code",
   "execution_count": 84,
   "id": "8d7cd8d1-60da-48a8-952b-2ac34fac1d3f",
   "metadata": {},
   "outputs": [
    {
     "data": {
      "text/plain": [
       "array([ 0, 35,  7,  3])"
      ]
     },
     "execution_count": 84,
     "metadata": {},
     "output_type": "execute_result"
    }
   ],
   "source": [
    "b"
   ]
  },
  {
   "cell_type": "code",
   "execution_count": 85,
   "id": "0a0e080b-c60c-4210-825f-618567687d20",
   "metadata": {},
   "outputs": [],
   "source": [
    "c = a*b"
   ]
  },
  {
   "cell_type": "code",
   "execution_count": 86,
   "id": "57d3aa20-3413-4e4e-8e13-c8690fb4be49",
   "metadata": {},
   "outputs": [
    {
     "data": {
      "text/plain": [
       "array([  0, 280,  63,  30])"
      ]
     },
     "execution_count": 86,
     "metadata": {},
     "output_type": "execute_result"
    }
   ],
   "source": [
    "c"
   ]
  },
  {
   "cell_type": "code",
   "execution_count": 87,
   "id": "2818ef75-bd08-4fca-ba6b-1f4d2e4017b1",
   "metadata": {},
   "outputs": [],
   "source": [
    "d = a.copy()"
   ]
  },
  {
   "cell_type": "markdown",
   "id": "76518f7a-4a68-45ef-89f1-da4d5d0ab240",
   "metadata": {},
   "source": [
    "##### Take good care when making a copy "
   ]
  },
  {
   "cell_type": "code",
   "execution_count": 88,
   "id": "b9269ea8-e598-414f-b5a7-a9fbe19504f5",
   "metadata": {},
   "outputs": [],
   "source": [
    "d[0] = 1"
   ]
  },
  {
   "cell_type": "code",
   "execution_count": 89,
   "id": "e213143e-7fb7-4d79-b8dc-3da37769400b",
   "metadata": {},
   "outputs": [
    {
     "data": {
      "text/plain": [
       "array([ 1,  8,  9, 10])"
      ]
     },
     "execution_count": 89,
     "metadata": {},
     "output_type": "execute_result"
    }
   ],
   "source": [
    "d"
   ]
  },
  {
   "cell_type": "code",
   "execution_count": null,
   "id": "204aeb7e-542d-4d87-a0bd-c8aa76619e0a",
   "metadata": {},
   "outputs": [],
   "source": []
  },
  {
   "cell_type": "code",
   "execution_count": 90,
   "id": "7aaa45d5-50db-4c05-a84c-e9e808245e47",
   "metadata": {},
   "outputs": [
    {
     "data": {
      "text/plain": [
       "array([ 0, 35,  7,  3])"
      ]
     },
     "execution_count": 90,
     "metadata": {},
     "output_type": "execute_result"
    }
   ],
   "source": [
    "b"
   ]
  },
  {
   "cell_type": "code",
   "execution_count": 91,
   "id": "b37d72ac-54a4-4001-89a3-4762b442f847",
   "metadata": {},
   "outputs": [],
   "source": [
    "e = b.copy()"
   ]
  },
  {
   "cell_type": "code",
   "execution_count": 92,
   "id": "df243b12-011e-48da-ac61-506abe7a9bfe",
   "metadata": {},
   "outputs": [],
   "source": [
    "e[0] = 2"
   ]
  },
  {
   "cell_type": "code",
   "execution_count": 93,
   "id": "438f99f8-29b7-496d-b9de-42e363696a19",
   "metadata": {},
   "outputs": [
    {
     "data": {
      "text/plain": [
       "array([ 2, 35,  7,  3])"
      ]
     },
     "execution_count": 93,
     "metadata": {},
     "output_type": "execute_result"
    }
   ],
   "source": [
    "e \n"
   ]
  },
  {
   "cell_type": "markdown",
   "id": "6415b78d-77c8-4764-9cfa-fef15d58bf97",
   "metadata": {},
   "source": [
    "# We can be able to perform the maathematical operations in here with ease\n",
    "Lets dive to it"
   ]
  },
  {
   "cell_type": "code",
   "execution_count": 94,
   "id": "1d9fa9bf-b285-4610-9cd3-fe0677c0c53e",
   "metadata": {},
   "outputs": [
    {
     "data": {
      "text/plain": [
       "array([ 0.90929743, -0.42818267,  0.6569866 ,  0.14112001])"
      ]
     },
     "execution_count": 94,
     "metadata": {},
     "output_type": "execute_result"
    }
   ],
   "source": [
    "np.sin(e)"
   ]
  },
  {
   "cell_type": "code",
   "execution_count": 95,
   "id": "38496ca7-10ff-46da-9204-2e7194e46d37",
   "metadata": {},
   "outputs": [
    {
     "data": {
      "text/plain": [
       "array([   0, 1225,   49,    9])"
      ]
     },
     "execution_count": 95,
     "metadata": {},
     "output_type": "execute_result"
    }
   ],
   "source": [
    "e*b"
   ]
  },
  {
   "cell_type": "code",
   "execution_count": 96,
   "id": "a10b557a-fdee-449f-924c-c6fbc4d394bf",
   "metadata": {},
   "outputs": [
    {
     "data": {
      "text/plain": [
       "array([0.5       , 0.22857143, 1.28571429, 3.33333333])"
      ]
     },
     "execution_count": 96,
     "metadata": {},
     "output_type": "execute_result"
    }
   ],
   "source": [
    "d/e"
   ]
  },
  {
   "cell_type": "code",
   "execution_count": 97,
   "id": "5f888261-1a3f-4537-aa75-e4ffd97cfbdf",
   "metadata": {},
   "outputs": [
    {
     "name": "stdout",
     "output_type": "stream",
     "text": [
      "[ 2 35  7  3]\n",
      "[   4 1225   49    9]\n",
      "[0 1 1 1]\n",
      "11.75\n",
      "183.6875\n",
      "35\n",
      "2\n",
      "13.5531361684298\n"
     ]
    }
   ],
   "source": [
    "print (e)\n",
    "print(e**2)\n",
    "print(e%2)\n",
    "print(np.mean(e))\n",
    "print(np.var(e))\n",
    "print(np.max(e))\n",
    "print(np.min(e))\n",
    "print(np.std(e))"
   ]
  },
  {
   "cell_type": "markdown",
   "id": "71d49425-6c32-4475-909c-59e066194410",
   "metadata": {},
   "source": [
    "# Linear Algebra"
   ]
  },
  {
   "cell_type": "code",
   "execution_count": 98,
   "id": "0b074b35-b3f0-4365-8cce-61777f560b7b",
   "metadata": {},
   "outputs": [],
   "source": [
    "matrix = np.array([[1,2,4],[5,6,7]])"
   ]
  },
  {
   "cell_type": "code",
   "execution_count": 99,
   "id": "756b73b3-5d4f-4e47-9307-cc59dd4898eb",
   "metadata": {},
   "outputs": [
    {
     "data": {
      "text/plain": [
       "array([[1, 2, 4],\n",
       "       [5, 6, 7]])"
      ]
     },
     "execution_count": 99,
     "metadata": {},
     "output_type": "execute_result"
    }
   ],
   "source": [
    "matrix"
   ]
  },
  {
   "cell_type": "code",
   "execution_count": 100,
   "id": "2c9df803-4b87-4148-81f2-a02ea1f12348",
   "metadata": {},
   "outputs": [
    {
     "name": "stdout",
     "output_type": "stream",
     "text": [
      "[[1. 0. 0.]\n",
      " [0. 1. 0.]\n",
      " [0. 0. 1.]]\n"
     ]
    },
    {
     "data": {
      "text/plain": [
       "np.float64(1.0)"
      ]
     },
     "execution_count": 100,
     "metadata": {},
     "output_type": "execute_result"
    }
   ],
   "source": [
    "c = np.identity(3)\n",
    "print(c)\n",
    "\n",
    "np.linalg.det(c)\n"
   ]
  },
  {
   "cell_type": "markdown",
   "id": "48f966d5-932e-44c7-80bb-5732f87a7e75",
   "metadata": {},
   "source": [
    "# Statistics\n"
   ]
  },
  {
   "cell_type": "code",
   "execution_count": 101,
   "id": "56b66fa9-d2f8-4af5-836c-6012bb3eaca3",
   "metadata": {},
   "outputs": [
    {
     "name": "stdout",
     "output_type": "stream",
     "text": [
      "[[ 1  3  5]\n",
      " [ 1 20  3]]\n"
     ]
    }
   ],
   "source": [
    "stats = np.array([[1,3,5],[1,20,3]])\n",
    "print(stats)"
   ]
  },
  {
   "cell_type": "code",
   "execution_count": 102,
   "id": "75eaef7e-d2b0-43ff-8a94-733b5fc12695",
   "metadata": {},
   "outputs": [
    {
     "data": {
      "text/plain": [
       "array([ 1, 20,  5])"
      ]
     },
     "execution_count": 102,
     "metadata": {},
     "output_type": "execute_result"
    }
   ],
   "source": [
    "np.max(stats,axis = 0)"
   ]
  },
  {
   "cell_type": "code",
   "execution_count": 103,
   "id": "fa27613a-322d-475b-b35b-44660be0da55",
   "metadata": {},
   "outputs": [
    {
     "data": {
      "text/plain": [
       "array([ 9, 24])"
      ]
     },
     "execution_count": 103,
     "metadata": {},
     "output_type": "execute_result"
    }
   ],
   "source": [
    "np.sum(stats, axis = 1) "
   ]
  },
  {
   "cell_type": "markdown",
   "id": "840957ab-74cc-4424-a418-bd6b57e5d6c4",
   "metadata": {},
   "source": [
    "# Reorganizing the arrays"
   ]
  },
  {
   "cell_type": "code",
   "execution_count": 104,
   "id": "3f53cf48-79ab-4551-ac05-914fed8ad050",
   "metadata": {},
   "outputs": [
    {
     "name": "stdout",
     "output_type": "stream",
     "text": [
      "[[12 34  6  7  4]\n",
      " [ 6  4  5  3  7]]\n",
      "[[[12]\n",
      "  [34]]\n",
      "\n",
      " [[ 6]\n",
      "  [ 7]]\n",
      "\n",
      " [[ 4]\n",
      "  [ 6]]\n",
      "\n",
      " [[ 4]\n",
      "  [ 5]]\n",
      "\n",
      " [[ 3]\n",
      "  [ 7]]]\n"
     ]
    }
   ],
   "source": [
    "before = np.array([[12,34,6,7,4],[6,4,5,3,7]])\n",
    "print(before)\n",
    "after = before.reshape((5,2,1))\n",
    "print(after)"
   ]
  },
  {
   "cell_type": "code",
   "execution_count": 105,
   "id": "39e1e20a-afc1-4390-b3d7-92ca8c7c8a7c",
   "metadata": {},
   "outputs": [
    {
     "name": "stdout",
     "output_type": "stream",
     "text": [
      "[ 1  2  3  5  3  4 56  6]\n"
     ]
    }
   ],
   "source": [
    "# Stacking matrices\n",
    "v1 = np.array([1,2,3,5])\n",
    "v2 = np.array([3,4,56,6])\n",
    "vc = np.vstack([v1,v2])\n",
    "vd = np.hstack([v1,v2])\n",
    "print(vd)\n",
    "# print(vc)"
   ]
  },
  {
   "cell_type": "markdown",
   "id": "353d97a1-74ba-4b90-893d-52373e19775a",
   "metadata": {},
   "source": [
    "# Loading data  with numpy\n"
   ]
  },
  {
   "cell_type": "code",
   "execution_count": 107,
   "id": "33681752-9c10-4cc1-8797-b898e80eeba1",
   "metadata": {},
   "outputs": [],
   "source": [
    "data1 = np.genfromtxt('fileUpload.txt')\n",
    "\n",
    "# split into train and test sets\n"
   ]
  },
  {
   "cell_type": "code",
   "execution_count": 108,
   "id": "560becaf-eb56-481f-b7e3-0eb81085bb40",
   "metadata": {},
   "outputs": [
    {
     "data": {
      "text/plain": [
       "array([nan, nan, nan])"
      ]
     },
     "execution_count": 108,
     "metadata": {},
     "output_type": "execute_result"
    }
   ],
   "source": [
    "data1"
   ]
  },
  {
   "cell_type": "markdown",
   "id": "68b411d4-c20f-4847-8af4-0ef853d03904",
   "metadata": {},
   "source": [
    "## Boolean Masking and Advanced indexing"
   ]
  },
  {
   "cell_type": "code",
   "execution_count": 109,
   "id": "7be66420-500a-48b2-9b6b-fecf3a2a9780",
   "metadata": {},
   "outputs": [
    {
     "name": "stdout",
     "output_type": "stream",
     "text": [
      "[1 4 7]\n"
     ]
    }
   ],
   "source": [
    "a = np.array ([1,4,5,7])\n",
    "print(a[[0,1,3]])"
   ]
  },
  {
   "cell_type": "code",
   "execution_count": 110,
   "id": "63471e1d-cf28-403c-bba5-81a4ae84352f",
   "metadata": {},
   "outputs": [
    {
     "data": {
      "text/plain": [
       "array([1., 4., 5., 7.])"
      ]
     },
     "execution_count": 110,
     "metadata": {},
     "output_type": "execute_result"
    }
   ],
   "source": [
    "a.astype('float')"
   ]
  },
  {
   "cell_type": "code",
   "execution_count": 111,
   "id": "f5620828-e00d-461b-96fe-e2dcc97888f9",
   "metadata": {},
   "outputs": [
    {
     "data": {
      "text/plain": [
       "array([1, 4, 5, 7])"
      ]
     },
     "execution_count": 111,
     "metadata": {},
     "output_type": "execute_result"
    }
   ],
   "source": [
    "a"
   ]
  },
  {
   "cell_type": "code",
   "execution_count": 112,
   "id": "930214b6-b3b8-40f2-be2c-c0f0a934d840",
   "metadata": {},
   "outputs": [],
   "source": [
    "a = a.astype('int16')"
   ]
  },
  {
   "cell_type": "code",
   "execution_count": 113,
   "id": "bbd45f9b-f6b0-4b83-b98a-3401779ca972",
   "metadata": {},
   "outputs": [
    {
     "data": {
      "text/plain": [
       "array([1, 4, 5, 7], dtype=int16)"
      ]
     },
     "execution_count": 113,
     "metadata": {},
     "output_type": "execute_result"
    }
   ],
   "source": [
    "a\n"
   ]
  },
  {
   "cell_type": "code",
   "execution_count": 114,
   "id": "09de8755-e196-4b56-b9b0-bb5a86cfc2cd",
   "metadata": {},
   "outputs": [
    {
     "data": {
      "text/plain": [
       "array([ True, False, False, False])"
      ]
     },
     "execution_count": 114,
     "metadata": {},
     "output_type": "execute_result"
    }
   ],
   "source": [
    "(~(a>1) & (a<5))"
   ]
  },
  {
   "cell_type": "code",
   "execution_count": 118,
   "id": "a8dc3e3b-a1b3-427b-8cea-e16a07d3efcf",
   "metadata": {},
   "outputs": [
    {
     "data": {
      "text/plain": [
       "array([[1., 1., 1., 1., 1.],\n",
       "       [1., 1., 1., 1., 1.],\n",
       "       [1., 1., 1., 1., 1.],\n",
       "       [1., 1., 1., 1., 1.],\n",
       "       [1., 1., 1., 1., 1.],\n",
       "       [1., 1., 1., 1., 1.]])"
      ]
     },
     "execution_count": 118,
     "metadata": {},
     "output_type": "execute_result"
    }
   ],
   "source": [
    "a = np.ones((6,5))\n",
    "a"
   ]
  },
  {
   "cell_type": "code",
   "execution_count": 119,
   "id": "08b4309a-8487-484b-b5f3-2f0dd9c5ac59",
   "metadata": {},
   "outputs": [
    {
     "data": {
      "text/plain": [
       "array([[11, 12],\n",
       "       [16, 17]])"
      ]
     },
     "execution_count": 119,
     "metadata": {},
     "output_type": "execute_result"
    }
   ],
   "source": [
    "z = np.array([[11,12],[16,17]])\n",
    "z"
   ]
  },
  {
   "cell_type": "code",
   "execution_count": 120,
   "id": "594c1b3a-fc33-40ff-9d97-80ab7dc22676",
   "metadata": {},
   "outputs": [],
   "source": [
    "a[2:4,:2] = z"
   ]
  },
  {
   "cell_type": "code",
   "execution_count": 121,
   "id": "bd01b455-3391-4468-b9c2-2eacc74222fa",
   "metadata": {},
   "outputs": [
    {
     "data": {
      "text/plain": [
       "array([[11, 12],\n",
       "       [16, 17]])"
      ]
     },
     "execution_count": 121,
     "metadata": {},
     "output_type": "execute_result"
    }
   ],
   "source": [
    "z"
   ]
  },
  {
   "cell_type": "code",
   "execution_count": 122,
   "id": "8e011eda-729c-41ef-b7b3-420a057840cf",
   "metadata": {},
   "outputs": [
    {
     "data": {
      "text/plain": [
       "array([[ 1.,  1.,  1.,  1.,  1.],\n",
       "       [ 1.,  1.,  1.,  1.,  1.],\n",
       "       [11., 12.,  1.,  1.,  1.],\n",
       "       [16., 17.,  1.,  1.,  1.],\n",
       "       [ 1.,  1.,  1.,  1.,  1.],\n",
       "       [ 1.,  1.,  1.,  1.,  1.]])"
      ]
     },
     "execution_count": 122,
     "metadata": {},
     "output_type": "execute_result"
    }
   ],
   "source": [
    "a"
   ]
  },
  {
   "cell_type": "markdown",
   "id": "2fe5c74c-fce4-4b1f-ae4d-2aed72a27912",
   "metadata": {},
   "source": [
    "#get the unique matrix\n",
    "a[2:4,:2]"
   ]
  },
  {
   "cell_type": "code",
   "execution_count": 123,
   "id": "36316347-a668-4559-9ada-0c9eab859133",
   "metadata": {},
   "outputs": [
    {
     "data": {
      "text/plain": [
       "array([ True,  True, False, False, False])"
      ]
     },
     "execution_count": 123,
     "metadata": {},
     "output_type": "execute_result"
    }
   ],
   "source": [
    "np.any(a>15,axis = 0)"
   ]
  },
  {
   "cell_type": "code",
   "execution_count": 124,
   "id": "4af5ea4d-157c-4dc6-8e27-2e1624a110f4",
   "metadata": {},
   "outputs": [
    {
     "data": {
      "text/plain": [
       "array([16., 17.])"
      ]
     },
     "execution_count": 124,
     "metadata": {},
     "output_type": "execute_result"
    }
   ],
   "source": [
    "a[a>15]"
   ]
  },
  {
   "cell_type": "code",
   "execution_count": 125,
   "id": "14912357-9572-48f8-93e9-f8f9c544e525",
   "metadata": {},
   "outputs": [
    {
     "data": {
      "text/plain": [
       "array([[False, False, False, False, False],\n",
       "       [False, False, False, False, False],\n",
       "       [ True,  True, False, False, False],\n",
       "       [ True,  True, False, False, False],\n",
       "       [False, False, False, False, False],\n",
       "       [False, False, False, False, False]])"
      ]
     },
     "execution_count": 125,
     "metadata": {},
     "output_type": "execute_result"
    }
   ],
   "source": [
    "((a>1)&(a>3))"
   ]
  },
  {
   "cell_type": "markdown",
   "id": "e6bc6511-32e8-49c2-8f80-2050ec6738f3",
   "metadata": {},
   "source": [
    "# Information gatherings"
   ]
  },
  {
   "cell_type": "code",
   "execution_count": 127,
   "id": "66207acf-81c6-4383-8b98-34d86a60103d",
   "metadata": {},
   "outputs": [
    {
     "name": "stdout",
     "output_type": "stream",
     "text": [
      "class:  ndarray\n",
      "shape:  (0, 35, 7, 3)\n",
      "strides:  (0, 0, 0, 0)\n",
      "itemsize:  8\n",
      "aligned:  True\n",
      "contiguous:  True\n",
      "fortran:  True\n",
      "data pointer: 0x28d0dee0\n",
      "byteorder:  little\n",
      "byteswap:  False\n",
      "type: float64\n"
     ]
    }
   ],
   "source": [
    "np.info(np.ndarray(b))"
   ]
  },
  {
   "cell_type": "markdown",
   "id": "0ff0fd61-313c-429e-8e0d-3853ac1becdf",
   "metadata": {},
   "source": [
    "# Comparing the array"
   ]
  },
  {
   "cell_type": "code",
   "execution_count": 129,
   "id": "537d6d5c-84c0-4dfd-a4ee-95df7c36b8bd",
   "metadata": {},
   "outputs": [
    {
     "data": {
      "text/plain": [
       "array([2, 4, 5, 6])"
      ]
     },
     "execution_count": 129,
     "metadata": {},
     "output_type": "execute_result"
    }
   ],
   "source": [
    "a = np.array([1,4,6,7])\n",
    "b = np.array([2,4,5,6])\n",
    "a=b\n",
    "np.array_equal(a,b)\n",
    "a"
   ]
  },
  {
   "cell_type": "code",
   "execution_count": 130,
   "id": "8e5e63ad-6fcf-4445-a164-8b9b80b577fd",
   "metadata": {},
   "outputs": [
    {
     "data": {
      "text/plain": [
       "array([2, 4, 5, 6])"
      ]
     },
     "execution_count": 130,
     "metadata": {},
     "output_type": "execute_result"
    }
   ],
   "source": [
    "a"
   ]
  },
  {
   "cell_type": "code",
   "execution_count": 131,
   "id": "208edb2c-ef2a-4364-ad28-257804d2b706",
   "metadata": {},
   "outputs": [
    {
     "data": {
      "text/plain": [
       "array([2, 4, 5, 6])"
      ]
     },
     "execution_count": 131,
     "metadata": {},
     "output_type": "execute_result"
    }
   ],
   "source": [
    "b"
   ]
  },
  {
   "cell_type": "code",
   "execution_count": 132,
   "id": "0358278e-84bf-4e53-8ea1-c9b331980841",
   "metadata": {},
   "outputs": [
    {
     "data": {
      "text/plain": [
       "array([2, 4, 5, 6])"
      ]
     },
     "execution_count": 132,
     "metadata": {},
     "output_type": "execute_result"
    }
   ],
   "source": [
    "a"
   ]
  },
  {
   "cell_type": "code",
   "execution_count": 133,
   "id": "a29801bc-272b-41d6-a70d-f626a479d97a",
   "metadata": {},
   "outputs": [
    {
     "name": "stdout",
     "output_type": "stream",
     "text": [
      "[ 2  6 11 17]\n",
      "[23  4  5  6]\n"
     ]
    }
   ],
   "source": [
    "len(a)\n",
    "print(a.cumsum())\n",
    "a[[0]] = 23\n",
    "print(a)\n",
    "\n"
   ]
  },
  {
   "cell_type": "code",
   "execution_count": 134,
   "id": "a1a8a418-5023-4e30-8a2d-5bad5b1be492",
   "metadata": {},
   "outputs": [
    {
     "data": {
      "text/plain": [
       "array([ 4,  5,  6, 23])"
      ]
     },
     "execution_count": 134,
     "metadata": {},
     "output_type": "execute_result"
    }
   ],
   "source": [
    "a.sort()\n",
    "a"
   ]
  },
  {
   "cell_type": "code",
   "execution_count": null,
   "id": "ba829c68-0291-4b36-af91-4990a205be73",
   "metadata": {},
   "outputs": [],
   "source": [
    "np.log(a)\n",
    "\n",
    "print(np.append(a,[1,2,70]))\n",
    "\n",
    "print(np.delete(a,[0]))\n",
    "print(np.insert(a,1,3))\n"
   ]
  },
  {
   "cell_type": "code",
   "execution_count": null,
   "id": "02b3310f-05fa-4033-8f04-2f46c5268610",
   "metadata": {},
   "outputs": [],
   "source": [
    "pd.read_csv('/home/bravo/Downloads/data-science-from-scratch-master (2)/stocks.csv')"
   ]
  },
  {
   "cell_type": "code",
   "execution_count": null,
   "id": "beaff4e4-e9af-4462-b238-949c95d528b6",
   "metadata": {},
   "outputs": [],
   "source": [
    "\n",
    "friendships = [(0, 1), (0, 2), (1, 2), (1, 3), (2, 3), (3, 4),\n",
    "               (4, 5), (5, 6), (5, 7), (6, 8), (7, 8), (8, 9)]\n",
    "print(friendships)\n"
   ]
  },
  {
   "cell_type": "code",
   "execution_count": null,
   "id": "54f0a3eb-15c9-42a7-a4c5-e1ba7b078e39",
   "metadata": {},
   "outputs": [],
   "source": [
    "#create a simple line plot \n",
    "plt.plot ([2,3,5,6,7])\n",
    "plt.title = 'hello there'\n",
    "plt.ylabel = 'y_axis'\n",
    "plt.xlabel = 'x_lable'\n",
    "plt.show()"
   ]
  },
  {
   "cell_type": "code",
   "execution_count": null,
   "id": "b704a7cd-c5a9-4643-acf6-c15764aaffde",
   "metadata": {},
   "outputs": [],
   "source": [
    "df = sns.load_data|set('tips')"
   ]
  },
  {
   "cell_type": "code",
   "execution_count": null,
   "id": "66f7fb00-e283-4697-b1e0-08dee83707dd",
   "metadata": {},
   "outputs": [],
   "source": [
    "sns.histplot(df['total_bill'])\n",
    "plt.title = \"hello there again\"\n",
    "plt.show()"
   ]
  },
  {
   "cell_type": "markdown",
   "id": "4af11e4c-7dfa-48b8-8553-9b327f84354a",
   "metadata": {},
   "source": [
    "# scikit-learn for machine learning\n"
   ]
  },
  {
   "cell_type": "code",
   "execution_count": null,
   "id": "2f095a80-a6ca-4737-a12a-3e56b27996b1",
   "metadata": {},
   "outputs": [],
   "source": [
    "from sklearn import datasets\n",
    "from sklearn.model_selection import train_test_split\n",
    "from sklearn.ensemble import RandomForestClassifier\n",
    "from sklearn.metrics import accuracy_score"
   ]
  },
  {
   "cell_type": "code",
   "execution_count": null,
   "id": "e69946df-0ad8-4030-b84f-83aecaf8fa38",
   "metadata": {},
   "outputs": [],
   "source": [
    "iris = datasets.load_iris()"
   ]
  },
  {
   "cell_type": "code",
   "execution_count": null,
   "id": "6d0adc2c-5dc5-4788-9145-6be6cbfeae16",
   "metadata": {},
   "outputs": [],
   "source": [
    "iris"
   ]
  },
  {
   "cell_type": "code",
   "execution_count": null,
   "id": "2f9a48e9-327d-415f-b887-1fc8a9a5b91c",
   "metadata": {},
   "outputs": [],
   "source": [
    "x =  iris.data"
   ]
  },
  {
   "cell_type": "code",
   "execution_count": null,
   "id": "19c48443-7007-429b-86a8-04cd6c9a4169",
   "metadata": {},
   "outputs": [],
   "source": [
    "y = iris.target"
   ]
  },
  {
   "cell_type": "code",
   "execution_count": null,
   "id": "2e8cd065-7cd3-416a-a6b0-960d040afed7",
   "metadata": {},
   "outputs": [],
   "source": [
    "x_train,x_test,y_train,y_test = train_test_split(x,y, test_size = 0.2, random_state = 42)"
   ]
  },
  {
   "cell_type": "code",
   "execution_count": null,
   "id": "54da6f2f-b34c-405c-8b49-41b8f441b63b",
   "metadata": {},
   "outputs": [],
   "source": [
    "print(x_train.shape, x_test.shape)"
   ]
  },
  {
   "cell_type": "code",
   "execution_count": null,
   "id": "5620530e-515f-480a-8597-b93946015caa",
   "metadata": {},
   "outputs": [],
   "source": [
    "rfc = RandomForestClassifier(random_state = 42)"
   ]
  },
  {
   "cell_type": "code",
   "execution_count": null,
   "id": "3ab392cc-0717-4298-8832-696d01a63914",
   "metadata": {},
   "outputs": [],
   "source": [
    "rfc.fit(x_train,y_train)"
   ]
  },
  {
   "cell_type": "code",
   "execution_count": null,
   "id": "f35d6c40-f192-4b3f-8f4e-0417e1a11c93",
   "metadata": {},
   "outputs": [],
   "source": [
    "y_pred = rfc.predict(x_test)\n",
    "print(rfc.predict(x_test))"
   ]
  },
  {
   "cell_type": "code",
   "execution_count": null,
   "id": "c889f400-6dc7-4798-bb3b-cafd30c1137b",
   "metadata": {},
   "outputs": [],
   "source": [
    "accuracy = accuracy_score(y_test, y_pred)"
   ]
  },
  {
   "cell_type": "code",
   "execution_count": null,
   "id": "bc30fa18-05d3-4f87-a95e-0cc3ec3a6871",
   "metadata": {},
   "outputs": [],
   "source": [
    "print(accuracy_score(y_test, y_pred))"
   ]
  },
  {
   "cell_type": "code",
   "execution_count": null,
   "id": "c983aa35-c27c-433b-9143-f8c1e5310e15",
   "metadata": {},
   "outputs": [],
   "source": [
    "import missingno as mn\n",
    "import numpy as np"
   ]
  },
  {
   "cell_type": "code",
   "execution_count": null,
   "id": "ac8c0ca8-7c7e-46bc-b42e-7ad51075a724",
   "metadata": {},
   "outputs": [
    {
     "data": {
      "text/plain": [
       "<Axes: >"
      ]
     },
     "execution_count": 147,
     "metadata": {},
     "output_type": "execute_result"
    },
    {
     "data": {
      "image/png": "[encoded data removed]",
      "text/plain": [
       "<Figure size 2500x1000 with 2 Axes>"
      ]
     },
     "metadata": {},
     "output_type": "display_data"
    }
   ],
   "source": [
    "import pandas as pd\n",
    "import missingno as mn\n",
    "import matplotlib.pyplot as plt\n",
    "\n",
    "data = {\n",
    "    'Name': ['Alice', 'Bob', 'Charlie', np.nan],\n",
    "    'Age': [25, np.nan, 30, 22],\n",
    "    'Country': ['Kenya', 'Uganda', \"helloo\", None]\n",
    "}\n",
    "df = pd.DataFrame(data)\n",
    "\n",
    "mn.matrix(df)\n"
   ]
  },
  {
   "cell_type": "code",
   "execution_count": null,
   "id": "f6f109a6-f82d-4bdb-9780-4ab0e54bfae5",
   "metadata": {},
   "outputs": [],
   "source": []
  },
  {
   "cell_type": "code",
   "execution_count": null,
   "id": "774bdaf4-0b87-4a52-86a8-09b70f1651e3",
   "metadata": {},
   "outputs": [],
   "source": []
  },
  {
   "cell_type": "code",
   "execution_count": null,
   "id": "a81c61b6-a356-4bc4-97db-af1565f6c756",
   "metadata": {},
   "outputs": [],
   "source": []
  },
  {
   "cell_type": "code",
   "execution_count": null,
   "id": "deb9a671-7eba-48e8-9ede-3c8439489f60",
   "metadata": {},
   "outputs": [],
   "source": []
  },
  {
   "cell_type": "code",
   "execution_count": null,
   "id": "3d1db65d-e198-4446-9d45-7d7dc4db2589",
   "metadata": {},
   "outputs": [],
   "source": []
  },
  {
   "cell_type": "code",
   "execution_count": null,
   "id": "280f8df3-4b6d-4552-9477-db0c45e3ed6c",
   "metadata": {},
   "outputs": [],
   "source": []
  },
  {
   "cell_type": "code",
   "execution_count": null,
   "id": "107f3a3b-32d1-463d-b30d-710ea8e507be",
   "metadata": {},
   "outputs": [],
   "source": []
  },
  {
   "cell_type": "code",
   "execution_count": null,
   "id": "e2eaddae-03e1-4c77-ba5e-785b59dbf0fc",
   "metadata": {},
   "outputs": [],
   "source": []
  },
  {
   "cell_type": "code",
   "execution_count": null,
   "id": "b65b7241-cbe1-43b0-8a90-9f2955f98002",
   "metadata": {},
   "outputs": [],
   "source": []
  },
  {
   "cell_type": "code",
   "execution_count": null,
   "id": "0ec4e0e6-c426-4ef3-989b-a04f75a0a44d",
   "metadata": {},
   "outputs": [],
   "source": []
  },
  {
   "cell_type": "code",
   "execution_count": null,
   "id": "2c93dbff-7fa4-4d4b-8df3-9068f4974059",
   "metadata": {},
   "outputs": [],
   "source": []
  },
  {
   "cell_type": "code",
   "execution_count": null,
   "id": "d3b930d1-fbd4-44e3-ab3f-3a6308d4c4ee",
   "metadata": {},
   "outputs": [],
   "source": []
  },
  {
   "cell_type": "code",
   "execution_count": null,
   "id": "8678f9bd-c5fe-4bdd-89cf-46bceb6926a0",
   "metadata": {},
   "outputs": [],
   "source": []
  },
  {
   "cell_type": "code",
   "execution_count": null,
   "id": "c8ca1c99-2352-4f97-8c6a-111500052ecf",
   "metadata": {},
   "outputs": [],
   "source": []
  },
  {
   "cell_type": "code",
   "execution_count": null,
   "id": "1aea00c9-d8f5-4642-8989-052148529c65",
   "metadata": {},
   "outputs": [],
   "source": []
  },
  {
   "cell_type": "code",
   "execution_count": null,
   "id": "2c2b4980-b8eb-42e5-b4a2-42fa31562f5e",
   "metadata": {},
   "outputs": [],
   "source": []
  },
  {
   "cell_type": "code",
   "execution_count": null,
   "id": "f728b887-e086-4560-8b49-8e96d82ea852",
   "metadata": {},
   "outputs": [],
   "source": []
  },
  {
   "cell_type": "code",
   "execution_count": null,
   "id": "f945fbbd-27a2-4cd2-a08d-61152e8b894b",
   "metadata": {},
   "outputs": [],
   "source": []
  },
  {
   "cell_type": "code",
   "execution_count": null,
   "id": "43005473-a56d-4231-a74f-2b4931f203f1",
   "metadata": {},
   "outputs": [],
   "source": []
  },
  {
   "cell_type": "code",
   "execution_count": null,
   "id": "e4e8eb20-420a-4ecb-b42d-3367502fcbf4",
   "metadata": {},
   "outputs": [],
   "source": []
  },
  {
   "cell_type": "code",
   "execution_count": null,
   "id": "d55fe55e-24ed-4a67-b83c-034f92f40e69",
   "metadata": {},
   "outputs": [],
   "source": []
  },
  {
   "cell_type": "code",
   "execution_count": null,
   "id": "5b42a43f-09c3-4769-a868-8e272ecb725e",
   "metadata": {},
   "outputs": [],
   "source": []
  },
  {
   "cell_type": "code",
   "execution_count": null,
   "id": "7d63bd47-d14e-499e-94ae-43f28cc66bb8",
   "metadata": {},
   "outputs": [],
   "source": []
  },
  {
   "cell_type": "code",
   "execution_count": null,
   "id": "760657e3-2d00-48ea-9b4c-672c3cfe0b91",
   "metadata": {},
   "outputs": [],
   "source": []
  },
  {
   "cell_type": "code",
   "execution_count": null,
   "id": "d4d8943b-429d-4276-9f2a-d65be42ac2e9",
   "metadata": {},
   "outputs": [],
   "source": []
  },
  {
   "cell_type": "code",
   "execution_count": null,
   "id": "3f474fb1-8db0-454a-b80c-92ad8beac987",
   "metadata": {},
   "outputs": [],
   "source": []
  },
  {
   "cell_type": "code",
   "execution_count": null,
   "id": "fce493b1-fb23-4d12-b0b6-d814c3302309",
   "metadata": {},
   "outputs": [],
   "source": []
  },
  {
   "cell_type": "code",
   "execution_count": null,
   "id": "69acc4cb-8631-4056-8957-f28d82a436cb",
   "metadata": {},
   "outputs": [],
   "source": []
  },
  {
   "cell_type": "code",
   "execution_count": null,
   "id": "16daacea-e78c-432a-82da-18d2f4a32b20",
   "metadata": {},
   "outputs": [],
   "source": []
  },
  {
   "cell_type": "code",
   "execution_count": null,
   "id": "5016d4be-0e56-4927-8f17-06fc278d74b6",
   "metadata": {},
   "outputs": [],
   "source": []
  },
  {
   "cell_type": "code",
   "execution_count": null,
   "id": "eb20b2d4-4e38-41cc-a44f-2e86cfca083c",
   "metadata": {},
   "outputs": [],
   "source": []
  },
  {
   "cell_type": "code",
   "execution_count": null,
   "id": "ee6db28d-03e9-4b1b-a4ae-76d72c02fc01",
   "metadata": {},
   "outputs": [],
   "source": []
  },
  {
   "cell_type": "code",
   "execution_count": null,
   "id": "ea068812-6a02-4511-adee-c1b8076e642d",
   "metadata": {},
   "outputs": [],
   "source": []
  },
  {
   "cell_type": "code",
   "execution_count": null,
   "id": "c76ca4f7-c438-403e-9c6f-9e135dd1f132",
   "metadata": {},
   "outputs": [],
   "source": []
  },
  {
   "cell_type": "code",
   "execution_count": null,
   "id": "35d2a315-67ab-4f2f-9f89-97f9e76873c3",
   "metadata": {},
   "outputs": [],
   "source": []
  },
  {
   "cell_type": "code",
   "execution_count": null,
   "id": "138ac7b4-34d8-4a67-8318-2b8e82c0fcc8",
   "metadata": {},
   "outputs": [],
   "source": []
  },
  {
   "cell_type": "code",
   "execution_count": null,
   "id": "7ccf21ed-0fcd-4300-b9fd-5a73194ecd75",
   "metadata": {},
   "outputs": [],
   "source": []
  },
  {
   "cell_type": "code",
   "execution_count": null,
   "id": "72ab47b9-5370-4d27-8abc-abdefd9d0c41",
   "metadata": {},
   "outputs": [],
   "source": []
  },
  {
   "cell_type": "code",
   "execution_count": null,
   "id": "01c6bf3c-665d-4954-9fb0-8f6357771092",
   "metadata": {},
   "outputs": [],
   "source": []
  },
  {
   "cell_type": "code",
   "execution_count": null,
   "id": "df882d0f-5d27-47d5-9754-45d9ac6f6ced",
   "metadata": {},
   "outputs": [],
   "source": []
  },
  {
   "cell_type": "code",
   "execution_count": null,
   "id": "1bac92b8-6607-4e3e-a430-073875c9e34d",
   "metadata": {},
   "outputs": [],
   "source": []
  },
  {
   "cell_type": "code",
   "execution_count": null,
   "id": "5999264c-aead-4613-9c34-e9da56f265c7",
   "metadata": {},
   "outputs": [],
   "source": []
  },
  {
   "cell_type": "code",
   "execution_count": null,
   "id": "71a06677-35d4-45d0-a6e4-644334f0c468",
   "metadata": {},
   "outputs": [],
   "source": []
  },
  {
   "cell_type": "code",
   "execution_count": null,
   "id": "13be7b35-2be6-49cd-a320-a2cf6f49b07e",
   "metadata": {},
   "outputs": [],
   "source": []
  },
  {
   "cell_type": "code",
   "execution_count": null,
   "id": "61d61ec6-c650-480d-9a41-2c6a474b7f84",
   "metadata": {},
   "outputs": [],
   "source": []
  },
  {
   "cell_type": "code",
   "execution_count": null,
   "id": "d4e6e487-1606-4b32-ab98-59277dfef14f",
   "metadata": {},
   "outputs": [],
   "source": []
  },
  {
   "cell_type": "code",
   "execution_count": null,
   "id": "aab343f8-a0b1-4907-b54a-78a194639c25",
   "metadata": {},
   "outputs": [],
   "source": []
  },
  {
   "cell_type": "code",
   "execution_count": null,
   "id": "ccee455b-f324-4ee8-9b0d-d8ae94ea6396",
   "metadata": {},
   "outputs": [],
   "source": []
  },
  {
   "cell_type": "code",
   "execution_count": null,
   "id": "aa87bbf6-28e8-4328-a935-c2d26108fbdd",
   "metadata": {},
   "outputs": [],
   "source": []
  },
  {
   "cell_type": "code",
   "execution_count": null,
   "id": "19cadbfd-4d86-46f9-9305-d7af73214087",
   "metadata": {},
   "outputs": [],
   "source": []
  },
  {
   "cell_type": "code",
   "execution_count": null,
   "id": "db3bf512-80d0-4f62-b2bc-b5f5c60c65c7",
   "metadata": {},
   "outputs": [],
   "source": []
  },
  {
   "cell_type": "code",
   "execution_count": null,
   "id": "d3d31504-f25c-4ae6-8d65-bfc62af57e7a",
   "metadata": {},
   "outputs": [],
   "source": []
  },
  {
   "cell_type": "code",
   "execution_count": null,
   "id": "a525e8b5-9715-4e6d-9e1a-eb18d68da2ef",
   "metadata": {},
   "outputs": [],
   "source": []
  },
  {
   "cell_type": "code",
   "execution_count": null,
   "id": "d03b4d8f-e224-47be-9c8b-6d88589d38a6",
   "metadata": {},
   "outputs": [],
   "source": []
  },
  {
   "cell_type": "code",
   "execution_count": null,
   "id": "3bc12477-3157-404b-b70e-39d5c0a6dd22",
   "metadata": {},
   "outputs": [],
   "source": []
  },
  {
   "cell_type": "code",
   "execution_count": null,
   "id": "80c0cc6f-753d-41d3-a555-ed2ab8b709b4",
   "metadata": {},
   "outputs": [],
   "source": []
  },
  {
   "cell_type": "code",
   "execution_count": null,
   "id": "3ea4b45c-6ba0-4e35-8cc6-7702e4df7796",
   "metadata": {},
   "outputs": [],
   "source": []
  },
  {
   "cell_type": "code",
   "execution_count": null,
   "id": "fca4f34c-52a9-4111-8350-1b79d13a4749",
   "metadata": {},
   "outputs": [],
   "source": []
  },
  {
   "cell_type": "code",
   "execution_count": null,
   "id": "246387eb-730d-4831-84e4-bd3d9a2f957f",
   "metadata": {},
   "outputs": [],
   "source": []
  },
  {
   "cell_type": "code",
   "execution_count": null,
   "id": "fa07fea8-268e-4eb5-a31c-cad17ac52d49",
   "metadata": {},
   "outputs": [],
   "source": []
  },
  {
   "cell_type": "code",
   "execution_count": null,
   "id": "caa704bb-4e0c-43da-a021-6946daffd240",
   "metadata": {},
   "outputs": [],
   "source": []
  },
  {
   "cell_type": "code",
   "execution_count": null,
   "id": "7cdf76cd-b80f-4cdd-91ea-6c911b6ffb95",
   "metadata": {},
   "outputs": [],
   "source": []
  },
  {
   "cell_type": "code",
   "execution_count": null,
   "id": "a4bc6948-6a55-4bc6-89a5-ba04c8fdd6da",
   "metadata": {},
   "outputs": [],
   "source": []
  },
  {
   "cell_type": "code",
   "execution_count": null,
   "id": "46031357-8bfb-47e7-bfcb-4ca33baf61e0",
   "metadata": {},
   "outputs": [],
   "source": []
  },
  {
   "cell_type": "code",
   "execution_count": null,
   "id": "681e3ff2-7c11-4335-b378-17d240e9d771",
   "metadata": {},
   "outputs": [],
   "source": []
  },
  {
   "cell_type": "code",
   "execution_count": null,
   "id": "80252684-954d-4797-a75b-9243d5919d67",
   "metadata": {},
   "outputs": [],
   "source": []
  },
  {
   "cell_type": "code",
   "execution_count": null,
   "id": "1d43f700-c112-4847-962a-c4463fc60339",
   "metadata": {},
   "outputs": [],
   "source": []
  },
  {
   "cell_type": "code",
   "execution_count": null,
   "id": "15409dbd-8833-4b31-9142-80aaba3660a5",
   "metadata": {},
   "outputs": [],
   "source": []
  },
  {
   "cell_type": "code",
   "execution_count": null,
   "id": "090c88b3-f830-42cb-9cd3-1c0138668655",
   "metadata": {},
   "outputs": [],
   "source": []
  },
  {
   "cell_type": "code",
   "execution_count": null,
   "id": "34feb040-4129-4a54-82b1-9e2c64a3df47",
   "metadata": {},
   "outputs": [],
   "source": []
  },
  {
   "cell_type": "code",
   "execution_count": null,
   "id": "c9a6c930-3087-4b44-ba97-7e1fe28659c6",
   "metadata": {},
   "outputs": [],
   "source": []
  },
  {
   "cell_type": "code",
   "execution_count": null,
   "id": "3d660ed4-990d-4164-b409-ee45a0ca3b26",
   "metadata": {},
   "outputs": [],
   "source": []
  },
  {
   "cell_type": "code",
   "execution_count": null,
   "id": "e93b5598-23e5-4ace-be04-769da885a4e3",
   "metadata": {},
   "outputs": [],
   "source": []
  },
  {
   "cell_type": "code",
   "execution_count": null,
   "id": "8d914b08-1840-4fca-857b-6b2cffb13dbd",
   "metadata": {},
   "outputs": [],
   "source": []
  },
  {
   "cell_type": "code",
   "execution_count": null,
   "id": "f68162d4-2fa6-4a75-a186-b739143828e8",
   "metadata": {},
   "outputs": [],
   "source": []
  },
  {
   "cell_type": "code",
   "execution_count": null,
   "id": "f2ff463b-fcff-4838-9519-2ab277a81b5f",
   "metadata": {},
   "outputs": [],
   "source": []
  },
  {
   "cell_type": "code",
   "execution_count": null,
   "id": "98305dab-a91c-43d7-836f-e549e69edc9f",
   "metadata": {},
   "outputs": [],
   "source": []
  },
  {
   "cell_type": "code",
   "execution_count": null,
   "id": "cc3d714f-e6ef-4685-ba74-3961165ec345",
   "metadata": {},
   "outputs": [],
   "source": []
  },
  {
   "cell_type": "code",
   "execution_count": null,
   "id": "7502daaf-5250-4746-9aa5-e4ea0eaa40c1",
   "metadata": {},
   "outputs": [],
   "source": []
  },
  {
   "cell_type": "code",
   "execution_count": null,
   "id": "546b264c-1ae8-4467-9953-486b1f85f568",
   "metadata": {},
   "outputs": [],
   "source": []
  },
  {
   "cell_type": "code",
   "execution_count": null,
   "id": "ddabfc22-5ee7-4bc0-9873-571e9eaf464d",
   "metadata": {},
   "outputs": [],
   "source": []
  },
  {
   "cell_type": "code",
   "execution_count": null,
   "id": "687dbd62-281f-4f6f-a434-47bee90edcad",
   "metadata": {},
   "outputs": [],
   "source": []
  },
  {
   "cell_type": "code",
   "execution_count": null,
   "id": "6b29ad7e-407e-427c-a6d2-f2b20ddf6ee7",
   "metadata": {},
   "outputs": [],
   "source": []
  },
  {
   "cell_type": "code",
   "execution_count": null,
   "id": "3c192c4b-e55a-4bdc-9cae-c44aa1a098c9",
   "metadata": {},
   "outputs": [],
   "source": []
  },
  {
   "cell_type": "code",
   "execution_count": null,
   "id": "1596fc1a-ff8a-4020-b251-16f5a8f23b58",
   "metadata": {},
   "outputs": [],
   "source": []
  },
  {
   "cell_type": "code",
   "execution_count": null,
   "id": "165f5ef4-1930-4ceb-9b59-97472bb79e02",
   "metadata": {},
   "outputs": [],
   "source": []
  },
  {
   "cell_type": "code",
   "execution_count": null,
   "id": "8d81a4e9-4791-4cf9-8402-bef3032f79ff",
   "metadata": {},
   "outputs": [],
   "source": []
  },
  {
   "cell_type": "code",
   "execution_count": null,
   "id": "a20d43d8-c9a5-45e0-8b65-e77b315a57ac",
   "metadata": {},
   "outputs": [],
   "source": []
  },
  {
   "cell_type": "code",
   "execution_count": null,
   "id": "0baab5bc-2216-4e8c-afd0-dd4373573774",
   "metadata": {},
   "outputs": [],
   "source": []
  },
  {
   "cell_type": "code",
   "execution_count": null,
   "id": "6d311c9e-3330-43ac-8e9a-cca094b24a10",
   "metadata": {},
   "outputs": [],
   "source": []
  },
  {
   "cell_type": "code",
   "execution_count": null,
   "id": "29681885-a10d-4469-9066-6e1fb7161f9d",
   "metadata": {},
   "outputs": [],
   "source": []
  },
  {
   "cell_type": "code",
   "execution_count": null,
   "id": "a8ea7215-576e-43cc-9d18-8936222cef60",
   "metadata": {},
   "outputs": [],
   "source": []
  },
  {
   "cell_type": "code",
   "execution_count": null,
   "id": "cb5de3eb-5b55-41c7-b414-f6eae6c512d4",
   "metadata": {},
   "outputs": [],
   "source": []
  },
  {
   "cell_type": "code",
   "execution_count": null,
   "id": "00fa04f0-3808-42c7-bc03-290db03ec387",
   "metadata": {},
   "outputs": [],
   "source": []
  },
  {
   "cell_type": "code",
   "execution_count": null,
   "id": "60503d86-5bd6-441c-80cb-810c018a6537",
   "metadata": {},
   "outputs": [],
   "source": []
  },
  {
   "cell_type": "code",
   "execution_count": null,
   "id": "0a1d1cec-ea05-45ed-8b9b-7cec0b365ec4",
   "metadata": {},
   "outputs": [],
   "source": []
  },
  {
   "cell_type": "code",
   "execution_count": null,
   "id": "1ad363ed-e7ce-4e00-ba51-2f580fef3853",
   "metadata": {},
   "outputs": [],
   "source": []
  },
  {
   "cell_type": "code",
   "execution_count": null,
   "id": "c1f1217c-0ee1-4e8c-894a-9c8c797f0a74",
   "metadata": {},
   "outputs": [],
   "source": []
  },
  {
   "cell_type": "code",
   "execution_count": null,
   "id": "60069adb-adea-43bd-9744-e31829354166",
   "metadata": {},
   "outputs": [],
   "source": []
  },
  {
   "cell_type": "code",
   "execution_count": null,
   "id": "e3ea5e2f-5ee9-4757-8974-f89815d5dc89",
   "metadata": {},
   "outputs": [],
   "source": []
  },
  {
   "cell_type": "code",
   "execution_count": null,
   "id": "e7c5d071-57dd-4a8b-9f65-07d8eff56d5b",
   "metadata": {},
   "outputs": [],
   "source": []
  },
  {
   "cell_type": "code",
   "execution_count": null,
   "id": "7c77c29f-ca9c-4eb3-b0e1-dbd30c177f57",
   "metadata": {},
   "outputs": [],
   "source": []
  },
  {
   "cell_type": "code",
   "execution_count": null,
   "id": "2978b9f2-56b3-4d9e-848f-07736367eedd",
   "metadata": {},
   "outputs": [],
   "source": []
  },
  {
   "cell_type": "code",
   "execution_count": null,
   "id": "7c1d5648-e5f0-45d6-afd7-5c516e2c4e97",
   "metadata": {},
   "outputs": [],
   "source": []
  },
  {
   "cell_type": "code",
   "execution_count": null,
   "id": "eabe128b-98fb-4aa4-b5f9-8c7dab8f64ad",
   "metadata": {},
   "outputs": [],
   "source": []
  },
  {
   "cell_type": "code",
   "execution_count": null,
   "id": "800ee9b2-ca52-4cdc-864c-ccef9b70ebd1",
   "metadata": {},
   "outputs": [],
   "source": []
  },
  {
   "cell_type": "code",
   "execution_count": null,
   "id": "8aa7e423-665f-4b9a-a7f0-7c0bdee9db78",
   "metadata": {},
   "outputs": [],
   "source": []
  },
  {
   "cell_type": "code",
   "execution_count": null,
   "id": "6e6d0a31-f581-42a9-80af-06d436af71bd",
   "metadata": {},
   "outputs": [],
   "source": []
  },
  {
   "cell_type": "code",
   "execution_count": null,
   "id": "6fa37218-8e69-4dcc-8bbe-b9f82dcfd93b",
   "metadata": {},
   "outputs": [],
   "source": []
  },
  {
   "cell_type": "code",
   "execution_count": null,
   "id": "25d0c90f-972a-4dda-a7cc-6ca2180a89b8",
   "metadata": {},
   "outputs": [],
   "source": []
  },
  {
   "cell_type": "code",
   "execution_count": null,
   "id": "23152158-fad4-44be-b16b-1563b1144244",
   "metadata": {},
   "outputs": [],
   "source": []
  },
  {
   "cell_type": "code",
   "execution_count": null,
   "id": "34e1ff66-f661-4d8a-8fc6-abf89ed98c9a",
   "metadata": {},
   "outputs": [],
   "source": []
  },
  {
   "cell_type": "code",
   "execution_count": null,
   "id": "2ab482b4-3afa-4233-ae70-cc77ff0f0777",
   "metadata": {},
   "outputs": [],
   "source": []
  },
  {
   "cell_type": "code",
   "execution_count": null,
   "id": "3c277cfe-849e-4106-b1f0-5e40f30a4fad",
   "metadata": {},
   "outputs": [],
   "source": []
  },
  {
   "cell_type": "code",
   "execution_count": null,
   "id": "bcd9eb1a-6b8e-4000-887e-de617889ff79",
   "metadata": {},
   "outputs": [],
   "source": []
  },
  {
   "cell_type": "code",
   "execution_count": null,
   "id": "8defc2d0-1737-415e-819d-43efaf1726af",
   "metadata": {},
   "outputs": [],
   "source": []
  },
  {
   "cell_type": "code",
   "execution_count": null,
   "id": "f05ef308-37c7-4984-8af4-bf358ff5f456",
   "metadata": {},
   "outputs": [],
   "source": []
  },
  {
   "cell_type": "code",
   "execution_count": null,
   "id": "1fde3a91-8e65-42ea-a493-8e44b60e7a49",
   "metadata": {},
   "outputs": [],
   "source": []
  },
  {
   "cell_type": "code",
   "execution_count": null,
   "id": "671165b8-9791-4c9e-8894-ded8f12a1a3e",
   "metadata": {},
   "outputs": [],
   "source": []
  },
  {
   "cell_type": "code",
   "execution_count": null,
   "id": "20720fb1-e953-4542-8558-5117e1d54620",
   "metadata": {},
   "outputs": [],
   "source": []
  },
  {
   "cell_type": "code",
   "execution_count": null,
   "id": "ba8b7a89-6b71-41cb-846f-9e1051fe3a5a",
   "metadata": {},
   "outputs": [],
   "source": []
  },
  {
   "cell_type": "code",
   "execution_count": null,
   "id": "cf67ced6-d61d-42dd-b92c-b8658ba4deac",
   "metadata": {},
   "outputs": [],
   "source": []
  },
  {
   "cell_type": "code",
   "execution_count": null,
   "id": "c8c94a79-34f8-426a-b7b6-ed1fbf4d2688",
   "metadata": {},
   "outputs": [],
   "source": []
  },
  {
   "cell_type": "code",
   "execution_count": null,
   "id": "b7ce8a33-9f95-474f-aae8-aeb0292b9cc5",
   "metadata": {},
   "outputs": [],
   "source": []
  },
  {
   "cell_type": "code",
   "execution_count": null,
   "id": "98fdb1a0-7bcf-445f-9a15-d01a11c1e5ce",
   "metadata": {},
   "outputs": [],
   "source": []
  },
  {
   "cell_type": "code",
   "execution_count": null,
   "id": "5ebed30d-3c22-4141-a9c3-07a26437978e",
   "metadata": {},
   "outputs": [],
   "source": []
  },
  {
   "cell_type": "code",
   "execution_count": null,
   "id": "d2ee25d1-1338-4976-8a65-a46aa824f58e",
   "metadata": {},
   "outputs": [],
   "source": []
  },
  {
   "cell_type": "code",
   "execution_count": null,
   "id": "97f9d79d-779b-494e-a312-caecfd2c8362",
   "metadata": {},
   "outputs": [],
   "source": []
  },
  {
   "cell_type": "code",
   "execution_count": null,
   "id": "8b644527-e9b2-4ae6-beb9-32536521d538",
   "metadata": {},
   "outputs": [],
   "source": []
  },
  {
   "cell_type": "code",
   "execution_count": null,
   "id": "93fe36a5-25e2-4fb4-b34c-73a5096eafba",
   "metadata": {},
   "outputs": [],
   "source": []
  }
 ],
 "metadata": {
  "kernelspec": {
   "display_name": "Python 3 (ipykernel)",
   "language": "python",
   "name": "python3"
  }
 },
 "nbformat": 4,
 "nbformat_minor": 5
}
