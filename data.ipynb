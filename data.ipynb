{
 "cells": [
  {
   "cell_type": "code",
   "execution_count": null,
   "id": "c0946b83",
   "metadata": {},
   "outputs": [],
   "source": []
  },
  {
   "cell_type": "code",
   "execution_count": 2,
   "id": "1c1448d3",
   "metadata": {},
   "outputs": [
    {
     "name": "stdout",
     "output_type": "stream",
     "text": [
      "hello there sit back and be ready to explor the field of data\n"
     ]
    }
   ],
   "source": [
    "print(\"hello there sit back and be ready to explor the field of data\")"
   ]
  },
  {
   "cell_type": "code",
   "execution_count": 3,
   "id": "bd2d37d7-a9ca-4fbf-8ece-c111c2f73edf",
   "metadata": {},
   "outputs": [],
   "source": [
    "#import the necessary modules\n",
    "import pandas as pd\n",
    "import numpy as np\n",
    "import matplotlib.pyplot as plt\n",
    "import seaborn as sns\n",
    "from scipy import stats"
   ]
  },
  {
   "cell_type": "code",
   "execution_count": 4,
   "id": "aa8ca20d-0b52-4d0f-9168-f46e76d4f0a9",
   "metadata": {},
   "outputs": [],
   "source": [
    "# upload the data to the environment\n",
    "data = pd.read_csv(\"/home/bravo/Downloads/iris.csv\")"
   ]
  },
  {
   "cell_type": "code",
   "execution_count": 5,
   "id": "3a6134ac-9fb0-4803-ad46-82df6f96021b",
   "metadata": {},
   "outputs": [
    {
     "name": "stdout",
     "output_type": "stream",
     "text": [
      "     5.1  3.5  1.4  0.2     Iris-setosa\n",
      "0    4.9  3.0  1.4  0.2     Iris-setosa\n",
      "1    4.7  3.2  1.3  0.2     Iris-setosa\n",
      "2    4.6  3.1  1.5  0.2     Iris-setosa\n",
      "3    5.0  3.6  1.4  0.2     Iris-setosa\n",
      "4    5.4  3.9  1.7  0.4     Iris-setosa\n",
      "..   ...  ...  ...  ...             ...\n",
      "144  6.7  3.0  5.2  2.3  Iris-virginica\n",
      "145  6.3  2.5  5.0  1.9  Iris-virginica\n",
      "146  6.5  3.0  5.2  2.0  Iris-virginica\n",
      "147  6.2  3.4  5.4  2.3  Iris-virginica\n",
      "148  5.9  3.0  5.1  1.8  Iris-virginica\n",
      "\n",
      "[149 rows x 5 columns]\n"
     ]
    }
   ],
   "source": [
    "print(data)"
   ]
  },
  {
   "cell_type": "code",
   "execution_count": 6,
   "id": "5f0c8b29-afb0-436a-ada3-cc079f816066",
   "metadata": {},
   "outputs": [
    {
     "name": "stdout",
     "output_type": "stream",
     "text": [
      "<class 'pandas.core.frame.DataFrame'>\n",
      "RangeIndex: 149 entries, 0 to 148\n",
      "Data columns (total 5 columns):\n",
      " #   Column       Non-Null Count  Dtype  \n",
      "---  ------       --------------  -----  \n",
      " 0   5.1          149 non-null    float64\n",
      " 1   3.5          149 non-null    float64\n",
      " 2   1.4          149 non-null    float64\n",
      " 3   0.2          149 non-null    float64\n",
      " 4   Iris-setosa  149 non-null    object \n",
      "dtypes: float64(4), object(1)\n",
      "memory usage: 5.9+ KB\n",
      "here is the general info: \n",
      " None\n"
     ]
    }
   ],
   "source": [
    "#get the general information of the data\n",
    "print(\"here is the general info: \\n\", data.info())"
   ]
  },
  {
   "cell_type": "raw",
   "id": "de0cfc31-6486-478d-8517-0b7331350708",
   "metadata": {},
   "source": [
    "# Get the general information of the data\n"
   ]
  },
  {
   "cell_type": "code",
   "execution_count": 7,
   "id": "2a6b8aa1-198a-4057-9f30-f872ff5f9915",
   "metadata": {},
   "outputs": [
    {
     "name": "stdout",
     "output_type": "stream",
     "text": [
      "the header section : \n",
      "    5.1  3.5  1.4  0.2  Iris-setosa\n",
      "0  4.9  3.0  1.4  0.2  Iris-setosa\n",
      "1  4.7  3.2  1.3  0.2  Iris-setosa\n",
      "2  4.6  3.1  1.5  0.2  Iris-setosa\n",
      "3  5.0  3.6  1.4  0.2  Iris-setosa\n",
      "4  5.4  3.9  1.7  0.4  Iris-setosa\n"
     ]
    }
   ],
   "source": [
    "# Get the header section of the data\n",
    "print (\"the header section : \\n\", data.head())"
   ]
  },
  {
   "cell_type": "code",
   "execution_count": 8,
   "id": "47e94ec4-fc0c-4f07-aa61-574ff340d84d",
   "metadata": {},
   "outputs": [
    {
     "name": "stdout",
     "output_type": "stream",
     "text": [
      "The shape is: \n",
      " (149, 5)\n"
     ]
    }
   ],
   "source": [
    "#get the shape of the data\n",
    "print (\"The shape is: \\n\", data.shape)"
   ]
  },
  {
   "cell_type": "code",
   "execution_count": 9,
   "id": "25e02247-f487-4bd2-95a6-7aaac951365a",
   "metadata": {},
   "outputs": [
    {
     "name": "stdout",
     "output_type": "stream",
     "text": [
      "Here is the summary : \n",
      "               5.1         3.5         1.4         0.2\n",
      "count  149.000000  149.000000  149.000000  149.000000\n",
      "mean     5.848322    3.051007    3.774497    1.205369\n",
      "std      0.828594    0.433499    1.759651    0.761292\n",
      "min      4.300000    2.000000    1.000000    0.100000\n",
      "25%      5.100000    2.800000    1.600000    0.300000\n",
      "50%      5.800000    3.000000    4.400000    1.300000\n",
      "75%      6.400000    3.300000    5.100000    1.800000\n",
      "max      7.900000    4.400000    6.900000    2.500000\n"
     ]
    }
   ],
   "source": [
    "#Get the statistical summary of the data \n",
    "print(\"Here is the summary : \\n\", data.describe())"
   ]
  },
  {
   "cell_type": "code",
   "execution_count": 10,
   "id": "4ba3d57e-5e8f-4daf-8e93-de02af75345d",
   "metadata": {},
   "outputs": [
    {
     "name": "stdout",
     "output_type": "stream",
     "text": [
      "Here are the columns in the data : \n",
      " Index(['5.1', '3.5', '1.4', '0.2', 'Iris-setosa'], dtype='object')\n"
     ]
    }
   ],
   "source": [
    "#Get the names of the data_columns\n",
    "print ('Here are the columns in the data : \\n', data.columns)"
   ]
  },
  {
   "cell_type": "code",
   "execution_count": 11,
   "id": "f6164e3b-aae6-437e-b40e-f46c6cef07f7",
   "metadata": {},
   "outputs": [
    {
     "name": "stdout",
     "output_type": "stream",
     "text": [
      "\n",
      "                5.1         3.5         1.4         0.2      Iris-setosa\n",
      "count   149.000000  149.000000  149.000000  149.000000              149\n",
      "unique         NaN         NaN         NaN         NaN                3\n",
      "top            NaN         NaN         NaN         NaN  Iris-versicolor\n",
      "freq           NaN         NaN         NaN         NaN               50\n",
      "mean      5.848322    3.051007    3.774497    1.205369              NaN\n",
      "std       0.828594    0.433499    1.759651    0.761292              NaN\n",
      "min       4.300000    2.000000    1.000000    0.100000              NaN\n",
      "25%       5.100000    2.800000    1.600000    0.300000              NaN\n",
      "50%       5.800000    3.000000    4.400000    1.300000              NaN\n",
      "75%       6.400000    3.300000    5.100000    1.800000              NaN\n",
      "max       7.900000    4.400000    6.900000    2.500000              NaN\n"
     ]
    }
   ],
   "source": [
    "#Get the statistical values of all the columns on the data\n",
    "print('\\n',data.describe(include = 'all'))"
   ]
  },
  {
   "cell_type": "code",
   "execution_count": 12,
   "id": "d9f58bef-17be-43fe-95fe-aed13a70a3b6",
   "metadata": {},
   "outputs": [
    {
     "name": "stdout",
     "output_type": "stream",
     "text": [
      "The missing values are : \n",
      "  5.1            0\n",
      "3.5            0\n",
      "1.4            0\n",
      "0.2            0\n",
      "Iris-setosa    0\n",
      "dtype: int64\n"
     ]
    }
   ],
   "source": [
    "#Cheak for the missing data values in the dataset\n",
    "print(\"The missing values are : \\n \", data.isnull().sum())"
   ]
  },
  {
   "cell_type": "code",
   "execution_count": 13,
   "id": "9f4bbe9b-f786-405a-ac68-b66b83d9cace",
   "metadata": {},
   "outputs": [
    {
     "name": "stdout",
     "output_type": "stream",
     "text": [
      "unique :\n",
      " 5.1            35\n",
      "3.5            23\n",
      "1.4            43\n",
      "0.2            22\n",
      "Iris-setosa     3\n",
      "dtype: int64\n"
     ]
    }
   ],
   "source": [
    "#check fot the unique data points in the dataset\n",
    "print(\"unique :\\n\", data.nunique())"
   ]
  },
  {
   "cell_type": "code",
   "execution_count": 14,
   "id": "72d373c3-78d0-482c-ac5c-3284581e1aff",
   "metadata": {},
   "outputs": [
    {
     "name": "stdout",
     "output_type": "stream",
     "text": [
      "5.1            float64\n",
      "3.5            float64\n",
      "1.4            float64\n",
      "0.2            float64\n",
      "Iris-setosa     object\n",
      "dtype: object\n"
     ]
    }
   ],
   "source": [
    "#Check the data types\n",
    "print (data.dtypes)"
   ]
  },
  {
   "cell_type": "code",
   "execution_count": 15,
   "id": "5bdcd54e-3d68-4e65-a77b-dde4cea79c4d",
   "metadata": {},
   "outputs": [
    {
     "data": {
      "image/png": "[encoded data removed]",
      "text/plain": [
       "<Figure size 640x480 with 1 Axes>"
      ]
     },
     "metadata": {},
     "output_type": "display_data"
    }
   ],
   "source": [
    "#Creating a count plot for the raget data\n",
    "sns.countplot(data = data, x = '5.1')\n",
    "plt.title('the destribution plot')\n",
    "plt.show()"
   ]
  },
  {
   "cell_type": "code",
   "execution_count": 16,
   "id": "d3c3c9f9-d181-4aea-ae66-b894852c674c",
   "metadata": {},
   "outputs": [
    {
     "name": "stdout",
     "output_type": "stream",
     "text": [
      "[1. 2. 4.]\n"
     ]
    }
   ],
   "source": [
    "# the field of arrays \n",
    "# a one dimentional array\n",
    "\n",
    "a = np.array([1,2,4],dtype = float)\n",
    "print(a)"
   ]
  },
  {
   "cell_type": "code",
   "execution_count": 17,
   "id": "4671d22c-ee02-4d99-82a7-5320e8c3e184",
   "metadata": {},
   "outputs": [
    {
     "name": "stdout",
     "output_type": "stream",
     "text": [
      "[[4 7 8]\n",
      " [1 6 7]]\n"
     ]
    },
    {
     "data": {
      "text/plain": [
       "2"
      ]
     },
     "execution_count": 17,
     "metadata": {},
     "output_type": "execute_result"
    }
   ],
   "source": [
    "# A two dimentional array\n",
    "\n",
    "b = np.array([(4,7,8),(1,6,7)])\n",
    "print(b)\n",
    "b.ndim"
   ]
  },
  {
   "cell_type": "code",
   "execution_count": 18,
   "id": "9b54fa0c-08f2-42c8-8393-baaa4a7b9572",
   "metadata": {},
   "outputs": [
    {
     "name": "stdout",
     "output_type": "stream",
     "text": [
      "[[[ 4. 56.  5.]\n",
      "  [ 6.  2.  6.]]\n",
      "\n",
      " [[ 7.  9.  3.]\n",
      "  [ 3.  6.  7.]]]\n"
     ]
    },
    {
     "data": {
      "text/plain": [
       "3"
      ]
     },
     "execution_count": 18,
     "metadata": {},
     "output_type": "execute_result"
    }
   ],
   "source": [
    "#A three d array\n",
    "\n",
    "c = np.array([[(4,56,5),(6,2,6,)],[(7,9,3),(3,6,7)]],dtype = float)\n",
    "print(c)\n",
    "c.ndim"
   ]
  },
  {
   "cell_type": "code",
   "execution_count": 19,
   "id": "52a14971-5baa-4284-ae26-13640197010a",
   "metadata": {},
   "outputs": [
    {
     "name": "stdout",
     "output_type": "stream",
     "text": [
      "[[0. 0. 0.]\n",
      " [0. 0. 0.]\n",
      " [0. 0. 0.]]\n"
     ]
    },
    {
     "data": {
      "text/plain": [
       "array([[[[1., 1., 1.],\n",
       "         [1., 1., 1.],\n",
       "         [1., 1., 1.],\n",
       "         [1., 1., 1.]],\n",
       "\n",
       "        [[1., 1., 1.],\n",
       "         [1., 1., 1.],\n",
       "         [1., 1., 1.],\n",
       "         [1., 1., 1.]]],\n",
       "\n",
       "\n",
       "       [[[1., 1., 1.],\n",
       "         [1., 1., 1.],\n",
       "         [1., 1., 1.],\n",
       "         [1., 1., 1.]],\n",
       "\n",
       "        [[1., 1., 1.],\n",
       "         [1., 1., 1.],\n",
       "         [1., 1., 1.],\n",
       "         [1., 1., 1.]]],\n",
       "\n",
       "\n",
       "       [[[1., 1., 1.],\n",
       "         [1., 1., 1.],\n",
       "         [1., 1., 1.],\n",
       "         [1., 1., 1.]],\n",
       "\n",
       "        [[1., 1., 1.],\n",
       "         [1., 1., 1.],\n",
       "         [1., 1., 1.],\n",
       "         [1., 1., 1.]]],\n",
       "\n",
       "\n",
       "       [[[1., 1., 1.],\n",
       "         [1., 1., 1.],\n",
       "         [1., 1., 1.],\n",
       "         [1., 1., 1.]],\n",
       "\n",
       "        [[1., 1., 1.],\n",
       "         [1., 1., 1.],\n",
       "         [1., 1., 1.],\n",
       "         [1., 1., 1.]]]])"
      ]
     },
     "execution_count": 19,
     "metadata": {},
     "output_type": "execute_result"
    }
   ],
   "source": [
    "# Numpy operations\n",
    "print(np.zeros((3,3)))\n",
    "np.ones((4,2,4,3))\n"
   ]
  },
  {
   "cell_type": "code",
   "execution_count": 20,
   "id": "cc667ce6-9c6b-407c-bc80-789b4e33ddfb",
   "metadata": {},
   "outputs": [
    {
     "name": "stdout",
     "output_type": "stream",
     "text": [
      "this is the end of the todays trial let it be the best i have like ever had\n"
     ]
    }
   ],
   "source": [
    "print ('this is the end of the todays trial let it be the best i have like ever had')\n"
   ]
  },
  {
   "cell_type": "code",
   "execution_count": 21,
   "id": "7cb3037a-6167-4dba-9809-35fdc60aecec",
   "metadata": {},
   "outputs": [
    {
     "name": "stdout",
     "output_type": "stream",
     "text": [
      "[5]\n"
     ]
    }
   ],
   "source": [
    "d = np.arange(5,6,5)\n",
    "print(d)"
   ]
  },
  {
   "cell_type": "code",
   "execution_count": 22,
   "id": "9700bd30-bc4e-4f3c-bdc3-8a1402300817",
   "metadata": {},
   "outputs": [],
   "source": [
    "e = np.linspace (0,2,9)"
   ]
  },
  {
   "cell_type": "raw",
   "id": "7e09973f-0951-401d-ac03-b14fcc746dda",
   "metadata": {},
   "source": [
    "print(e)"
   ]
  },
  {
   "cell_type": "code",
   "execution_count": 23,
   "id": "74cd213f-1eb9-4c19-88c2-fe40fd091fe0",
   "metadata": {},
   "outputs": [
    {
     "name": "stdout",
     "output_type": "stream",
     "text": [
      "[0.   0.25 0.5  0.75 1.   1.25 1.5  1.75 2.  ]\n"
     ]
    }
   ],
   "source": [
    "print(e)"
   ]
  },
  {
   "cell_type": "code",
   "execution_count": 24,
   "id": "54b541d0-e925-4261-9497-07e33725cb85",
   "metadata": {},
   "outputs": [],
   "source": [
    "f = np.full((3,4),4)"
   ]
  },
  {
   "cell_type": "code",
   "execution_count": 25,
   "id": "5dad07ac-e0d8-4fa4-8cac-54987dc44825",
   "metadata": {},
   "outputs": [
    {
     "data": {
      "text/plain": [
       "array([[4, 4, 4, 4],\n",
       "       [4, 4, 4, 4],\n",
       "       [4, 4, 4, 4]])"
      ]
     },
     "execution_count": 25,
     "metadata": {},
     "output_type": "execute_result"
    }
   ],
   "source": [
    "f"
   ]
  },
  {
   "cell_type": "code",
   "execution_count": 26,
   "id": "cce228e7-a486-4bbd-8207-7f3fbdaa3686",
   "metadata": {},
   "outputs": [],
   "source": [
    "g=np.eye(6)"
   ]
  },
  {
   "cell_type": "code",
   "execution_count": 27,
   "id": "c39e3156-948d-4127-a0a0-7fbf0b7540a3",
   "metadata": {},
   "outputs": [
    {
     "data": {
      "text/plain": [
       "array([[1., 0., 0., 0., 0., 0.],\n",
       "       [0., 1., 0., 0., 0., 0.],\n",
       "       [0., 0., 1., 0., 0., 0.],\n",
       "       [0., 0., 0., 1., 0., 0.],\n",
       "       [0., 0., 0., 0., 1., 0.],\n",
       "       [0., 0., 0., 0., 0., 1.]])"
      ]
     },
     "execution_count": 27,
     "metadata": {},
     "output_type": "execute_result"
    }
   ],
   "source": [
    "g"
   ]
  },
  {
   "cell_type": "code",
   "execution_count": 193,
   "id": "9c79baa4-981c-41f1-83f5-2bf100b6785d",
   "metadata": {},
   "outputs": [],
   "source": [
    "h = np.empty((3,4))"
   ]
  },
  {
   "cell_type": "code",
   "execution_count": 200,
   "id": "8a5371e1-bbdd-4e05-b49e-9b9faf8655ea",
   "metadata": {},
   "outputs": [
    {
     "name": "stdout",
     "output_type": "stream",
     "text": [
      "[[ 4. 56.  5.  6.]\n",
      " [ 2.  6.  7.  9.]\n",
      " [ 3.  3.  6.  7.]]\n"
     ]
    },
    {
     "data": {
      "text/plain": [
       "[array([[ 4., 56.,  5.,  6.]]),\n",
       " array([[2., 6., 7., 9.]]),\n",
       " array([[3., 3., 6., 7.]])]"
      ]
     },
     "execution_count": 200,
     "metadata": {},
     "output_type": "execute_result"
    }
   ],
   "source": [
    "print(h)\n",
    "np.vsplit(h,3)"
   ]
  },
  {
   "cell_type": "code",
   "execution_count": 30,
   "id": "92336d3f-060e-45a8-8ae9-0fe090b7c058",
   "metadata": {},
   "outputs": [],
   "source": [
    "i = np.random.random((2,3))"
   ]
  },
  {
   "cell_type": "code",
   "execution_count": 31,
   "id": "088f05a3-d3dc-48e8-82e8-0a125a758b19",
   "metadata": {},
   "outputs": [
    {
     "data": {
      "text/plain": [
       "array([[0.96047033, 0.30302764, 0.70834861],\n",
       "       [0.26348114, 0.12384587, 0.51312763]])"
      ]
     },
     "execution_count": 31,
     "metadata": {},
     "output_type": "execute_result"
    }
   ],
   "source": [
    "i"
   ]
  },
  {
   "cell_type": "code",
   "execution_count": 32,
   "id": "6843023c-04bd-4bef-a18c-e5d9935b6793",
   "metadata": {},
   "outputs": [],
   "source": [
    "a = np.array([1,2,3,4])\n",
    "b = np.array([2,3,4,5],dtype = 'int16')"
   ]
  },
  {
   "cell_type": "code",
   "execution_count": 33,
   "id": "67085c69-478f-4751-8418-c9ed85f89702",
   "metadata": {},
   "outputs": [
    {
     "data": {
      "text/plain": [
       "array([ 2,  6, 12, 20])"
      ]
     },
     "execution_count": 33,
     "metadata": {},
     "output_type": "execute_result"
    }
   ],
   "source": [
    "a*b"
   ]
  },
  {
   "cell_type": "code",
   "execution_count": 34,
   "id": "9ccb9135-0340-4887-86ac-15055da904b2",
   "metadata": {},
   "outputs": [
    {
     "data": {
      "text/plain": [
       "1"
      ]
     },
     "execution_count": 34,
     "metadata": {},
     "output_type": "execute_result"
    }
   ],
   "source": [
    "#Getting the dimention\n",
    "a.ndim"
   ]
  },
  {
   "cell_type": "code",
   "execution_count": 35,
   "id": "d92e4722-3c55-4615-9444-aa9d8bc07d8d",
   "metadata": {},
   "outputs": [
    {
     "data": {
      "text/plain": [
       "2"
      ]
     },
     "execution_count": 35,
     "metadata": {},
     "output_type": "execute_result"
    }
   ],
   "source": [
    "f.ndim"
   ]
  },
  {
   "cell_type": "code",
   "execution_count": 36,
   "id": "ac59f317-5144-44e4-8c3e-f63738e1ef60",
   "metadata": {},
   "outputs": [
    {
     "name": "stdout",
     "output_type": "stream",
     "text": [
      "2\n",
      "4\n",
      "8\n",
      "(4,)\n"
     ]
    },
    {
     "data": {
      "text/plain": [
       "dtype('int16')"
      ]
     },
     "execution_count": 36,
     "metadata": {},
     "output_type": "execute_result"
    }
   ],
   "source": [
    "print(b.itemsize)\n",
    "print(b.size)\n",
    "print(b.itemsize*b.size)\n",
    "print(b.shape)\n",
    "b.dtype\n"
   ]
  },
  {
   "cell_type": "code",
   "execution_count": 37,
   "id": "ab3a711d-2ff9-4ef6-b0ff-d515c9b03d36",
   "metadata": {},
   "outputs": [
    {
     "name": "stdout",
     "output_type": "stream",
     "text": [
      "[[ 2  3  5  7  5  3  4]\n",
      " [ 2 46  6 76  8  4  2]]\n"
     ]
    }
   ],
   "source": [
    "# Get te specific ellements\n",
    "a = np.array([[2,3,5,7,5,3,4],[2,46,6,76,8,4,2]])\n",
    "print(a)"
   ]
  },
  {
   "cell_type": "code",
   "execution_count": 38,
   "id": "580e6ec1-6a4d-483b-b756-4c32d3af3061",
   "metadata": {},
   "outputs": [
    {
     "name": "stdout",
     "output_type": "stream",
     "text": [
      "5\n",
      "[ 2 46  6 76  8  4  2]\n",
      "[ 3 46]\n",
      "[ 2 46  6 76  8]\n"
     ]
    }
   ],
   "source": [
    "# Get the specific items in the array\n",
    "print(a[0,4])\n",
    "# Print the second row\n",
    "print(a[1,:])\n",
    "# Print the second column\n",
    "print(a[:,-6])\n",
    "# print the second row from the second column onwards\n",
    "print(a[1,:-2])"
   ]
  },
  {
   "cell_type": "code",
   "execution_count": 39,
   "id": "9ab6a1da-bb9a-44b5-868f-96ddf6b3e8f3",
   "metadata": {},
   "outputs": [
    {
     "name": "stdout",
     "output_type": "stream",
     "text": [
      "[3 5 7 5 3]\n",
      "[46  6 76  8  4]\n"
     ]
    }
   ],
   "source": [
    "# Getting a little bit facy in here \n",
    "# Try and get the numbers between the rows \n",
    "print (a[0,1:-1])\n",
    "# Think of jumping some numbers\n",
    "print (a[1,1:-1:1])"
   ]
  },
  {
   "cell_type": "code",
   "execution_count": 40,
   "id": "4915ecba-163c-40b9-8a60-76456296680e",
   "metadata": {},
   "outputs": [],
   "source": [
    "# changing the values\n",
    "a[0,2] = 20\n"
   ]
  },
  {
   "cell_type": "code",
   "execution_count": 41,
   "id": "831e8de7-17b3-4491-a0e3-2765a4ee168b",
   "metadata": {},
   "outputs": [
    {
     "name": "stdout",
     "output_type": "stream",
     "text": [
      "[[ 2  3 20  7  5  3  4]\n",
      " [ 2 46  6 76  8  4  2]]\n",
      "[[ 6  6  6  6  6  3  4]\n",
      " [ 2 46  6 76  8  4  2]]\n"
     ]
    }
   ],
   "source": [
    "print(a)\n",
    "a[0,:-2] = 6\n",
    "print(a)"
   ]
  },
  {
   "cell_type": "code",
   "execution_count": 42,
   "id": "d20cfb69-ac89-49e9-a470-205c61856deb",
   "metadata": {},
   "outputs": [
    {
     "name": "stdout",
     "output_type": "stream",
     "text": [
      "[[[ 1  3  5 67 75  4]\n",
      "  [ 6  5  3  5 67  7]\n",
      "  [ 3  5  7  8  9  3]\n",
      "  [ 2  3  4  5  7  8]]]\n"
     ]
    }
   ],
   "source": [
    "# Access the elements of a three d arry\n",
    "b = np.array([[[1,3,5,67,75,4],[6,5,3,5,67,7],[3,5,7,8,9,3],[2,3,4,5,7,8]]])\n",
    "print(b)"
   ]
  },
  {
   "cell_type": "code",
   "execution_count": 43,
   "id": "0a2fa8ea-f201-4dc8-bbc1-f00db41bfe62",
   "metadata": {},
   "outputs": [
    {
     "name": "stdout",
     "output_type": "stream",
     "text": [
      "3\n",
      "[2 4 7]\n"
     ]
    }
   ],
   "source": [
    "print(b.ndim)\n",
    "print(b[0,3,:-1:2])"
   ]
  },
  {
   "cell_type": "code",
   "execution_count": 44,
   "id": "b33c3d09-74f2-42f4-b83c-f0a85feeb134",
   "metadata": {},
   "outputs": [],
   "source": [
    "hello = np.zeros((2,4))"
   ]
  },
  {
   "cell_type": "code",
   "execution_count": 45,
   "id": "84ed8744-f112-4dc3-a7e2-5d4730dfac54",
   "metadata": {},
   "outputs": [
    {
     "data": {
      "text/plain": [
       "array([[0., 0., 0., 0.],\n",
       "       [0., 0., 0., 0.]])"
      ]
     },
     "execution_count": 45,
     "metadata": {},
     "output_type": "execute_result"
    }
   ],
   "source": [
    "hello"
   ]
  },
  {
   "cell_type": "code",
   "execution_count": 46,
   "id": "89f38a02-6729-4c6d-8996-475356a6c3ef",
   "metadata": {},
   "outputs": [],
   "source": [
    "there = np.eye((3))"
   ]
  },
  {
   "cell_type": "code",
   "execution_count": 47,
   "id": "0686c207-8607-4d50-b159-58a899f609ae",
   "metadata": {
    "jupyter": {
     "source_hidden": true
    }
   },
   "outputs": [
    {
     "data": {
      "text/plain": [
       "array([[1., 0., 0.],\n",
       "       [0., 1., 0.],\n",
       "       [0., 0., 1.]])"
      ]
     },
     "execution_count": 47,
     "metadata": {},
     "output_type": "execute_result"
    }
   ],
   "source": [
    "there"
   ]
  },
  {
   "cell_type": "code",
   "execution_count": 48,
   "id": "57e220f3-1ff5-4276-9fe4-fc80fc84ce99",
   "metadata": {},
   "outputs": [],
   "source": [
    "is_ones = np.ones((2),dtype = 'int32')"
   ]
  },
  {
   "cell_type": "code",
   "execution_count": 49,
   "id": "423434c8-ade2-4d96-bfd0-2c5a1798f0ea",
   "metadata": {},
   "outputs": [
    {
     "data": {
      "text/plain": [
       "array([1, 1], dtype=int32)"
      ]
     },
     "execution_count": 49,
     "metadata": {},
     "output_type": "execute_result"
    }
   ],
   "source": [
    "is_ones"
   ]
  },
  {
   "cell_type": "code",
   "execution_count": 50,
   "id": "8eae6fe1-1079-4107-9e0c-649fd2f3bcbb",
   "metadata": {},
   "outputs": [],
   "source": [
    "# The specified numbers"
   ]
  },
  {
   "cell_type": "code",
   "execution_count": 51,
   "id": "48e4f039-3776-40c3-b2cd-3d4a6466ed32",
   "metadata": {},
   "outputs": [],
   "source": [
    "only_specified = np.full((2,2),11)"
   ]
  },
  {
   "cell_type": "code",
   "execution_count": 52,
   "id": "9f5527ea-7be5-45c6-affc-d2d1fe9d5e9d",
   "metadata": {},
   "outputs": [
    {
     "data": {
      "text/plain": [
       "array([[11, 11],\n",
       "       [11, 11]])"
      ]
     },
     "execution_count": 52,
     "metadata": {},
     "output_type": "execute_result"
    }
   ],
   "source": [
    "only_specified"
   ]
  },
  {
   "cell_type": "code",
   "execution_count": 53,
   "id": "670915b1-3530-43aa-872a-807da9ec69a5",
   "metadata": {},
   "outputs": [],
   "source": [
    "# Copy the shape of another array\n",
    "copy = np.full_like(hello,3,dtype = 'int16')"
   ]
  },
  {
   "cell_type": "code",
   "execution_count": 54,
   "id": "8093b9fb-4b7e-4857-9d68-cdeaebac6046",
   "metadata": {},
   "outputs": [
    {
     "data": {
      "text/plain": [
       "array([[3, 3, 3, 3],\n",
       "       [3, 3, 3, 3]], dtype=int16)"
      ]
     },
     "execution_count": 54,
     "metadata": {},
     "output_type": "execute_result"
    }
   ],
   "source": [
    "copy"
   ]
  },
  {
   "cell_type": "code",
   "execution_count": 55,
   "id": "978e926e-d2b1-4391-909c-761e146c8db4",
   "metadata": {},
   "outputs": [],
   "source": [
    "copy = np.full(hello.shape,2,dtype ='int16')"
   ]
  },
  {
   "cell_type": "code",
   "execution_count": null,
   "id": "9e5602bc-7874-4a7f-8aca-8ab9192a7a86",
   "metadata": {},
   "outputs": [],
   "source": []
  },
  {
   "cell_type": "raw",
   "id": "5241c9e7-6c8a-4fba-81e9-0988d8f3691f",
   "metadata": {},
   "source": [
    "copy"
   ]
  },
  {
   "cell_type": "code",
   "execution_count": 56,
   "id": "53322931-adc4-4a07-be57-516afc1798af",
   "metadata": {},
   "outputs": [],
   "source": [
    "# Using the random numbers \n",
    "rand = np.random.random((3,4))"
   ]
  },
  {
   "cell_type": "code",
   "execution_count": 57,
   "id": "b0cf1485-6aac-4f07-bdbb-731ffac9f6da",
   "metadata": {},
   "outputs": [
    {
     "data": {
      "text/plain": [
       "array([[0.11630581, 0.34188066, 0.2674189 , 0.89479316],\n",
       "       [0.26859622, 0.39659541, 0.00432857, 0.86367836],\n",
       "       [0.95146966, 0.21431331, 0.77754374, 0.05355841]])"
      ]
     },
     "execution_count": 57,
     "metadata": {},
     "output_type": "execute_result"
    }
   ],
   "source": [
    "rand"
   ]
  },
  {
   "cell_type": "code",
   "execution_count": 58,
   "id": "74fa93d5-0f25-40e4-895a-1138d878ed3e",
   "metadata": {},
   "outputs": [],
   "source": [
    "copy = np.random.rand(3,3)"
   ]
  },
  {
   "cell_type": "code",
   "execution_count": 59,
   "id": "aa48233f-e10f-42f0-a604-22fe7eec47ca",
   "metadata": {},
   "outputs": [
    {
     "data": {
      "text/plain": [
       "array([[0.45336699, 0.07777561, 0.22667347],\n",
       "       [0.10317417, 0.75310138, 0.8331947 ],\n",
       "       [0.84843231, 0.3333987 , 0.53641495]])"
      ]
     },
     "execution_count": 59,
     "metadata": {},
     "output_type": "execute_result"
    }
   ],
   "source": [
    "copy"
   ]
  },
  {
   "cell_type": "code",
   "execution_count": 60,
   "id": "e7e7ef90-6818-4acb-a1bc-dc0ad5f8dbcc",
   "metadata": {},
   "outputs": [],
   "source": [
    "# To copy the shape then we use the random_sample\n",
    "copy2 = np.random.random_sample(copy.shape)"
   ]
  },
  {
   "cell_type": "code",
   "execution_count": 61,
   "id": "f8438c5b-750e-4ab7-b626-c161a9db3cc3",
   "metadata": {},
   "outputs": [
    {
     "data": {
      "text/plain": [
       "array([[0.37296836, 0.12210266, 0.31346459],\n",
       "       [0.53688498, 0.18463296, 0.55679711],\n",
       "       [0.18905645, 0.03462103, 0.81371722]])"
      ]
     },
     "execution_count": 61,
     "metadata": {},
     "output_type": "execute_result"
    }
   ],
   "source": [
    "copy2\n"
   ]
  },
  {
   "cell_type": "code",
   "execution_count": 62,
   "id": "4b6c099c-7b52-41b2-817f-56b3402c0c6a",
   "metadata": {},
   "outputs": [
    {
     "data": {
      "text/plain": [
       "array([[2, 3],\n",
       "       [3, 1]])"
      ]
     },
     "execution_count": 62,
     "metadata": {},
     "output_type": "execute_result"
    }
   ],
   "source": [
    "# Use the intager random values\n",
    "np.random.randint(1,4,size = (2,2))"
   ]
  },
  {
   "cell_type": "code",
   "execution_count": 63,
   "id": "d4aa5489-422c-41fd-8d09-61b923d225b7",
   "metadata": {},
   "outputs": [
    {
     "data": {
      "text/plain": [
       "array([[1., 0., 0.],\n",
       "       [0., 1., 0.],\n",
       "       [0., 0., 1.]])"
      ]
     },
     "execution_count": 63,
     "metadata": {},
     "output_type": "execute_result"
    }
   ],
   "source": [
    "np.identity(3)"
   ]
  },
  {
   "cell_type": "code",
   "execution_count": 64,
   "id": "873b6a99-a850-4329-9eab-dd3044dfdf7e",
   "metadata": {},
   "outputs": [
    {
     "data": {
      "text/plain": [
       "array([0.45336699, 0.45336699, 0.45336699, 0.07777561, 0.07777561,\n",
       "       0.07777561, 0.22667347, 0.22667347, 0.22667347, 0.10317417,\n",
       "       0.10317417, 0.10317417, 0.75310138, 0.75310138, 0.75310138,\n",
       "       0.8331947 , 0.8331947 , 0.8331947 , 0.84843231, 0.84843231,\n",
       "       0.84843231, 0.3333987 , 0.3333987 , 0.3333987 , 0.53641495,\n",
       "       0.53641495, 0.53641495])"
      ]
     },
     "execution_count": 64,
     "metadata": {},
     "output_type": "execute_result"
    }
   ],
   "source": [
    "np.repeat(copy,3)"
   ]
  },
  {
   "cell_type": "code",
   "execution_count": 65,
   "id": "8e3e7a81-c715-47e6-828c-404191148ca8",
   "metadata": {},
   "outputs": [],
   "source": [
    "a = np.array([1,3,4,5])\n",
    "a\n",
    "a+=5"
   ]
  },
  {
   "cell_type": "code",
   "execution_count": 66,
   "id": "df5de681-b69f-4a5a-9904-04bb36505a8c",
   "metadata": {},
   "outputs": [],
   "source": [
    "a\n",
    "b= np.array([0,35,7,3])"
   ]
  },
  {
   "cell_type": "code",
   "execution_count": 67,
   "id": "8d7cd8d1-60da-48a8-952b-2ac34fac1d3f",
   "metadata": {},
   "outputs": [
    {
     "data": {
      "text/plain": [
       "array([ 0, 35,  7,  3])"
      ]
     },
     "execution_count": 67,
     "metadata": {},
     "output_type": "execute_result"
    }
   ],
   "source": [
    "b"
   ]
  },
  {
   "cell_type": "code",
   "execution_count": 68,
   "id": "0a0e080b-c60c-4210-825f-618567687d20",
   "metadata": {},
   "outputs": [],
   "source": [
    "c = a*b"
   ]
  },
  {
   "cell_type": "code",
   "execution_count": 69,
   "id": "57d3aa20-3413-4e4e-8e13-c8690fb4be49",
   "metadata": {},
   "outputs": [
    {
     "data": {
      "text/plain": [
       "array([  0, 280,  63,  30])"
      ]
     },
     "execution_count": 69,
     "metadata": {},
     "output_type": "execute_result"
    }
   ],
   "source": [
    "c"
   ]
  },
  {
   "cell_type": "code",
   "execution_count": 70,
   "id": "2818ef75-bd08-4fca-ba6b-1f4d2e4017b1",
   "metadata": {},
   "outputs": [],
   "source": [
    "d = a.copy()"
   ]
  },
  {
   "cell_type": "markdown",
   "id": "76518f7a-4a68-45ef-89f1-da4d5d0ab240",
   "metadata": {},
   "source": [
    "##### Take good care when making a copy "
   ]
  },
  {
   "cell_type": "code",
   "execution_count": 71,
   "id": "b9269ea8-e598-414f-b5a7-a9fbe19504f5",
   "metadata": {},
   "outputs": [],
   "source": [
    "d[0] = 1"
   ]
  },
  {
   "cell_type": "code",
   "execution_count": 72,
   "id": "e213143e-7fb7-4d79-b8dc-3da37769400b",
   "metadata": {},
   "outputs": [
    {
     "data": {
      "text/plain": [
       "array([ 1,  8,  9, 10])"
      ]
     },
     "execution_count": 72,
     "metadata": {},
     "output_type": "execute_result"
    }
   ],
   "source": [
    "d"
   ]
  },
  {
   "cell_type": "code",
   "execution_count": 73,
   "id": "204aeb7e-542d-4d87-a0bd-c8aa76619e0a",
   "metadata": {},
   "outputs": [
    {
     "data": {
      "text/plain": [
       "array([ 6,  8,  9, 10])"
      ]
     },
     "execution_count": 73,
     "metadata": {},
     "output_type": "execute_result"
    }
   ],
   "source": [
    "ainsert"
   ]
  },
  {
   "cell_type": "code",
   "execution_count": 74,
   "id": "7aaa45d5-50db-4c05-a84c-e9e808245e47",
   "metadata": {},
   "outputs": [
    {
     "data": {
      "text/plain": [
       "array([ 0, 35,  7,  3])"
      ]
     },
     "execution_count": 74,
     "metadata": {},
     "output_type": "execute_result"
    }
   ],
   "source": [
    "b"
   ]
  },
  {
   "cell_type": "code",
   "execution_count": 75,
   "id": "b37d72ac-54a4-4001-89a3-4762b442f847",
   "metadata": {},
   "outputs": [],
   "source": [
    "e = b.copy()"
   ]
  },
  {
   "cell_type": "code",
   "execution_count": 76,
   "id": "df243b12-011e-48da-ac61-506abe7a9bfe",
   "metadata": {},
   "outputs": [],
   "source": [
    "e[0] = 2"
   ]
  },
  {
   "cell_type": "code",
   "execution_count": 77,
   "id": "438f99f8-29b7-496d-b9de-42e363696a19",
   "metadata": {},
   "outputs": [
    {
     "data": {
      "text/plain": [
       "array([ 2, 35,  7,  3])"
      ]
     },
     "execution_count": 77,
     "metadata": {},
     "output_type": "execute_result"
    }
   ],
   "source": [
    "e \n"
   ]
  },
  {
   "cell_type": "markdown",
   "id": "6415b78d-77c8-4764-9cfa-fef15d58bf97",
   "metadata": {},
   "source": [
    "# We can be able to perform the maathematical operations in here with ease\n",
    "Lets dive to it"
   ]
  },
  {
   "cell_type": "code",
   "execution_count": 78,
   "id": "1d9fa9bf-b285-4610-9cd3-fe0677c0c53e",
   "metadata": {},
   "outputs": [
    {
     "data": {
      "text/plain": [
       "array([ 0.90929743, -0.42818267,  0.6569866 ,  0.14112001])"
      ]
     },
     "execution_count": 78,
     "metadata": {},
     "output_type": "execute_result"
    }
   ],
   "source": [
    "np.sin(e)"
   ]
  },
  {
   "cell_type": "code",
   "execution_count": 79,
   "id": "38496ca7-10ff-46da-9204-2e7194e46d37",
   "metadata": {},
   "outputs": [
    {
     "data": {
      "text/plain": [
       "array([   0, 1225,   49,    9])"
      ]
     },
     "execution_count": 79,
     "metadata": {},
     "output_type": "execute_result"
    }
   ],
   "source": [
    "e*b"
   ]
  },
  {
   "cell_type": "code",
   "execution_count": 80,
   "id": "a10b557a-fdee-449f-924c-c6fbc4d394bf",
   "metadata": {},
   "outputs": [
    {
     "data": {
      "text/plain": [
       "array([0.5       , 0.22857143, 1.28571429, 3.33333333])"
      ]
     },
     "execution_count": 80,
     "metadata": {},
     "output_type": "execute_result"
    }
   ],
   "source": [
    "d/e"
   ]
  },
  {
   "cell_type": "code",
   "execution_count": 81,
   "id": "5f888261-1a3f-4537-aa75-e4ffd97cfbdf",
   "metadata": {},
   "outputs": [
    {
     "name": "stdout",
     "output_type": "stream",
     "text": [
      "[ 2 35  7  3]\n",
      "[   4 1225   49    9]\n",
      "[0 1 1 1]\n",
      "11.75\n",
      "183.6875\n",
      "35\n",
      "2\n",
      "13.5531361684298\n"
     ]
    }
   ],
   "source": [
    "print (e)\n",
    "print(e**2)\n",
    "print(e%2)\n",
    "print(np.mean(e))\n",
    "print(np.var(e))\n",
    "print(np.max(e))\n",
    "print(np.min(e))\n",
    "print(np.std(e))"
   ]
  },
  {
   "cell_type": "markdown",
   "id": "71d49425-6c32-4475-909c-59e066194410",
   "metadata": {},
   "source": [
    "# Linear Algebra"
   ]
  },
  {
   "cell_type": "code",
   "execution_count": 82,
   "id": "0b074b35-b3f0-4365-8cce-61777f560b7b",
   "metadata": {},
   "outputs": [],
   "source": [
    "matrix = np.array([[1,2,4],[5,6,7]])"
   ]
  },
  {
   "cell_type": "code",
   "execution_count": 83,
   "id": "756b73b3-5d4f-4e47-9307-cc59dd4898eb",
   "metadata": {},
   "outputs": [
    {
     "data": {
      "text/plain": [
       "array([[1, 2, 4],\n",
       "       [5, 6, 7]])"
      ]
     },
     "execution_count": 83,
     "metadata": {},
     "output_type": "execute_result"
    }
   ],
   "source": [
    "matrix"
   ]
  },
  {
   "cell_type": "code",
   "execution_count": 84,
   "id": "2c9df803-4b87-4148-81f2-a02ea1f12348",
   "metadata": {},
   "outputs": [
    {
     "name": "stdout",
     "output_type": "stream",
     "text": [
      "[[1. 0. 0.]\n",
      " [0. 1. 0.]\n",
      " [0. 0. 1.]]\n"
     ]
    },
    {
     "data": {
      "text/plain": [
       "np.float64(1.0)"
      ]
     },
     "execution_count": 84,
     "metadata": {},
     "output_type": "execute_result"
    }
   ],
   "source": [
    "c = np.identity(3)\n",
    "print(c)\n",
    "\n",
    "np.linalg.det(c)\n"
   ]
  },
  {
   "cell_type": "markdown",
   "id": "48f966d5-932e-44c7-80bb-5732f87a7e75",
   "metadata": {},
   "source": [
    "# Statistics\n"
   ]
  },
  {
   "cell_type": "code",
   "execution_count": 85,
   "id": "56b66fa9-d2f8-4af5-836c-6012bb3eaca3",
   "metadata": {},
   "outputs": [
    {
     "name": "stdout",
     "output_type": "stream",
     "text": [
      "[[ 1  3  5]\n",
      " [ 1 20  3]]\n"
     ]
    }
   ],
   "source": [
    "stats = np.array([[1,3,5],[1,20,3]])\n",
    "print(stats)"
   ]
  },
  {
   "cell_type": "code",
   "execution_count": 86,
   "id": "75eaef7e-d2b0-43ff-8a94-733b5fc12695",
   "metadata": {},
   "outputs": [
    {
     "data": {
      "text/plain": [
       "array([ 1, 20,  5])"
      ]
     },
     "execution_count": 86,
     "metadata": {},
     "output_type": "execute_result"
    }
   ],
   "source": [
    "np.max(stats,axis = 0)"
   ]
  },
  {
   "cell_type": "code",
   "execution_count": 87,
   "id": "fa27613a-322d-475b-b35b-44660be0da55",
   "metadata": {},
   "outputs": [
    {
     "data": {
      "text/plain": [
       "array([ 9, 24])"
      ]
     },
     "execution_count": 87,
     "metadata": {},
     "output_type": "execute_result"
    }
   ],
   "source": [
    "np.sum(stats, axis = 1) "
   ]
  },
  {
   "cell_type": "markdown",
   "id": "840957ab-74cc-4424-a418-bd6b57e5d6c4",
   "metadata": {},
   "source": [
    "# Reorganizing the arrays"
   ]
  },
  {
   "cell_type": "code",
   "execution_count": 88,
   "id": "3f53cf48-79ab-4551-ac05-914fed8ad050",
   "metadata": {},
   "outputs": [
    {
     "name": "stdout",
     "output_type": "stream",
     "text": [
      "[[12 34  6  7  4]\n",
      " [ 6  4  5  3  7]]\n",
      "[[[12]\n",
      "  [34]]\n",
      "\n",
      " [[ 6]\n",
      "  [ 7]]\n",
      "\n",
      " [[ 4]\n",
      "  [ 6]]\n",
      "\n",
      " [[ 4]\n",
      "  [ 5]]\n",
      "\n",
      " [[ 3]\n",
      "  [ 7]]]\n"
     ]
    }
   ],
   "source": [
    "before = np.array([[12,34,6,7,4],[6,4,5,3,7]])\n",
    "print(before)\n",
    "after = before.reshape((5,2,1))\n",
    "print(after)"
   ]
  },
  {
   "cell_type": "code",
   "execution_count": 89,
   "id": "39e1e20a-afc1-4390-b3d7-92ca8c7c8a7c",
   "metadata": {},
   "outputs": [
    {
     "name": "stdout",
     "output_type": "stream",
     "text": [
      "[ 1  2  3  5  3  4 56  6]\n"
     ]
    }
   ],
   "source": [
    "# Stacking matrices\n",
    "v1 = np.array([1,2,3,5])\n",
    "v2 = np.array([3,4,56,6])\n",
    "vc = np.vstack([v1,v2])\n",
    "vd = np.hstack([v1,v2])\n",
    "print(vd)\n",
    "# print(vc)"
   ]
  },
  {
   "cell_type": "markdown",
   "id": "353d97a1-74ba-4b90-893d-52373e19775a",
   "metadata": {},
   "source": [
    "# Loading data  with numpy\n"
   ]
  },
  {
   "cell_type": "code",
   "execution_count": 90,
   "id": "33681752-9c10-4cc1-8797-b898e80eeba1",
   "metadata": {},
   "outputs": [],
   "source": [
    "data1 = np.genfromtxt('fileUpload.txt',delimiter = ',', dtype = 'int32') "
   ]
  },
  {
   "cell_type": "code",
   "execution_count": 91,
   "id": "560becaf-eb56-481f-b7e3-0eb81085bb40",
   "metadata": {},
   "outputs": [
    {
     "data": {
      "text/plain": [
       "array([[13,  3,  6,  7,  5,  4,  7,  9,  9,  6],\n",
       "       [ 3,  7,  3,  6,  5,  6,  4, 34,  4,  5]], dtype=int32)"
      ]
     },
     "execution_count": 91,
     "metadata": {},
     "output_type": "execute_result"
    }
   ],
   "source": [
    "data1"
   ]
  },
  {
   "cell_type": "markdown",
   "id": "68b411d4-c20f-4847-8af4-0ef853d03904",
   "metadata": {},
   "source": [
    "## Boolean Masking and Advanced indexing"
   ]
  },
  {
   "cell_type": "code",
   "execution_count": 95,
   "id": "7be66420-500a-48b2-9b6b-fecf3a2a9780",
   "metadata": {},
   "outputs": [
    {
     "name": "stdout",
     "output_type": "stream",
     "text": [
      "[1 4 7]\n"
     ]
    }
   ],
   "source": [
    "a = np.array ([1,4,5,7])\n",
    "print(a[[0,1,3]])"
   ]
  },
  {
   "cell_type": "code",
   "execution_count": 93,
   "id": "63471e1d-cf28-403c-bba5-81a4ae84352f",
   "metadata": {},
   "outputs": [
    {
     "data": {
      "text/plain": [
       "array([1., 4., 5., 7.])"
      ]
     },
     "execution_count": 93,
     "metadata": {},
     "output_type": "execute_result"
    }
   ],
   "source": [
    "a.astype('float')"
   ]
  },
  {
   "cell_type": "code",
   "execution_count": null,
   "id": "f5620828-e00d-461b-96fe-e2dcc97888f9",
   "metadata": {},
   "outputs": [],
   "source": [
    "a"
   ]
  },
  {
   "cell_type": "code",
   "execution_count": 96,
   "id": "930214b6-b3b8-40f2-be2c-c0f0a934d840",
   "metadata": {},
   "outputs": [],
   "source": [
    "a = a.astype('int16')"
   ]
  },
  {
   "cell_type": "code",
   "execution_count": 97,
   "id": "bbd45f9b-f6b0-4b83-b98a-3401779ca972",
   "metadata": {},
   "outputs": [
    {
     "data": {
      "text/plain": [
       "array([1, 4, 5, 7], dtype=int16)"
      ]
     },
     "execution_count": 97,
     "metadata": {},
     "output_type": "execute_result"
    }
   ],
   "source": [
    "a\n"
   ]
  },
  {
   "cell_type": "code",
   "execution_count": 98,
   "id": "09de8755-e196-4b56-b9b0-bb5a86cfc2cd",
   "metadata": {},
   "outputs": [
    {
     "data": {
      "text/plain": [
       "array([ True, False, False, False])"
      ]
     },
     "execution_count": 98,
     "metadata": {},
     "output_type": "execute_result"
    }
   ],
   "source": [
    "(~(a>1) & (a<5))"
   ]
  },
  {
   "cell_type": "code",
   "execution_count": 99,
   "id": "a8dc3e3b-a1b3-427b-8cea-e16a07d3efcf",
   "metadata": {},
   "outputs": [
    {
     "data": {
      "text/plain": [
       "array([[1., 1., 1., 1., 1.],\n",
       "       [1., 1., 1., 1., 1.],\n",
       "       [1., 1., 1., 1., 1.],\n",
       "       [1., 1., 1., 1., 1.],\n",
       "       [1., 1., 1., 1., 1.],\n",
       "       [1., 1., 1., 1., 1.]])"
      ]
     },
     "execution_count": 99,
     "metadata": {},
     "output_type": "execute_result"
    }
   ],
   "source": [
    "a = np.ones((6,5))\n",
    "a"
   ]
  },
  {
   "cell_type": "code",
   "execution_count": 100,
   "id": "08b4309a-8487-484b-b5f3-2f0dd9c5ac59",
   "metadata": {},
   "outputs": [
    {
     "data": {
      "text/plain": [
       "array([[11, 12],\n",
       "       [16, 17]])"
      ]
     },
     "execution_count": 100,
     "metadata": {},
     "output_type": "execute_result"
    }
   ],
   "source": [
    "z = np.array([[11,12],[16,17]])\n",
    "z"
   ]
  },
  {
   "cell_type": "code",
   "execution_count": 101,
   "id": "594c1b3a-fc33-40ff-9d97-80ab7dc22676",
   "metadata": {},
   "outputs": [],
   "source": [
    "a[2:4,:2] = z"
   ]
  },
  {
   "cell_type": "code",
   "execution_count": 102,
   "id": "bd01b455-3391-4468-b9c2-2eacc74222fa",
   "metadata": {},
   "outputs": [
    {
     "data": {
      "text/plain": [
       "array([[11, 12],\n",
       "       [16, 17]])"
      ]
     },
     "execution_count": 102,
     "metadata": {},
     "output_type": "execute_result"
    }
   ],
   "source": [
    "z"
   ]
  },
  {
   "cell_type": "code",
   "execution_count": 103,
   "id": "8e011eda-729c-41ef-b7b3-420a057840cf",
   "metadata": {},
   "outputs": [
    {
     "data": {
      "text/plain": [
       "array([[ 1.,  1.,  1.,  1.,  1.],\n",
       "       [ 1.,  1.,  1.,  1.,  1.],\n",
       "       [11., 12.,  1.,  1.,  1.],\n",
       "       [16., 17.,  1.,  1.,  1.],\n",
       "       [ 1.,  1.,  1.,  1.,  1.],\n",
       "       [ 1.,  1.,  1.,  1.,  1.]])"
      ]
     },
     "execution_count": 103,
     "metadata": {},
     "output_type": "execute_result"
    }
   ],
   "source": [
    "a"
   ]
  },
  {
   "cell_type": "markdown",
   "id": "2fe5c74c-fce4-4b1f-ae4d-2aed72a27912",
   "metadata": {},
   "source": [
    "#get the unique matrix\n",
    "a[2:4,:2]"
   ]
  },
  {
   "cell_type": "code",
   "execution_count": 118,
   "id": "36316347-a668-4559-9ada-0c9eab859133",
   "metadata": {},
   "outputs": [
    {
     "data": {
      "text/plain": [
       "array([ True,  True, False, False, False])"
      ]
     },
     "execution_count": 118,
     "metadata": {},
     "output_type": "execute_result"
    }
   ],
   "source": [
    "np.any(a>15,axis = 0)"
   ]
  },
  {
   "cell_type": "code",
   "execution_count": 120,
   "id": "4af5ea4d-157c-4dc6-8e27-2e1624a110f4",
   "metadata": {},
   "outputs": [
    {
     "data": {
      "text/plain": [
       "array([16., 17.])"
      ]
     },
     "execution_count": 120,
     "metadata": {},
     "output_type": "execute_result"
    }
   ],
   "source": [
    "a[a>15]"
   ]
  },
  {
   "cell_type": "code",
   "execution_count": 121,
   "id": "14912357-9572-48f8-93e9-f8f9c544e525",
   "metadata": {},
   "outputs": [
    {
     "data": {
      "text/plain": [
       "array([[False, False, False, False, False],\n",
       "       [False, False, False, False, False],\n",
       "       [ True,  True, False, False, False],\n",
       "       [ True,  True, False, False, False],\n",
       "       [False, False, False, False, False],\n",
       "       [False, False, False, False, False]])"
      ]
     },
     "execution_count": 121,
     "metadata": {},
     "output_type": "execute_result"
    }
   ],
   "source": [
    "((a>1)&(a>3))"
   ]
  },
  {
   "cell_type": "markdown",
   "id": "e6bc6511-32e8-49c2-8f80-2050ec6738f3",
   "metadata": {},
   "source": [
    "# Information gatherings"
   ]
  },
  {
   "cell_type": "code",
   "execution_count": 123,
   "id": "66207acf-81c6-4383-8b98-34d86a60103d",
   "metadata": {},
   "outputs": [
    {
     "name": "stdout",
     "output_type": "stream",
     "text": [
      "class:  ndarray\n",
      "shape:  (0, 35, 7, 3)\n",
      "strides:  (0, 0, 0, 0)\n",
      "itemsize:  8\n",
      "aligned:  True\n",
      "contiguous:  True\n",
      "fortran:  True\n",
      "data pointer: 0x33219380\n",
      "byteorder:  little\n",
      "byteswap:  False\n",
      "type: float64\n"
     ]
    }
   ],
   "source": [
    "np.info(np.ndarray(b))"
   ]
  },
  {
   "cell_type": "markdown",
   "id": "0ff0fd61-313c-429e-8e0d-3853ac1becdf",
   "metadata": {},
   "source": [
    "# Comparing the array"
   ]
  },
  {
   "cell_type": "code",
   "execution_count": 154,
   "id": "537d6d5c-84c0-4dfd-a4ee-95df7c36b8bd",
   "metadata": {},
   "outputs": [
    {
     "data": {
      "text/plain": [
       "array([2, 4, 5, 6])"
      ]
     },
     "execution_count": 154,
     "metadata": {},
     "output_type": "execute_result"
    }
   ],
   "source": [
    "a = np.array([1,4,6,7])\n",
    "b = np.array([2,4,5,6])\n",
    "a=b\n",
    "np.array_equal(a,b)\n",
    "a"
   ]
  },
  {
   "cell_type": "code",
   "execution_count": 155,
   "id": "8e5e63ad-6fcf-4445-a164-8b9b80b577fd",
   "metadata": {},
   "outputs": [
    {
     "data": {
      "text/plain": [
       "array([2, 4, 5, 6])"
      ]
     },
     "execution_count": 155,
     "metadata": {},
     "output_type": "execute_result"
    }
   ],
   "source": [
    "a"
   ]
  },
  {
   "cell_type": "code",
   "execution_count": 156,
   "id": "208edb2c-ef2a-4364-ad28-257804d2b706",
   "metadata": {},
   "outputs": [
    {
     "data": {
      "text/plain": [
       "array([2, 4, 5, 6])"
      ]
     },
     "execution_count": 156,
     "metadata": {},
     "output_type": "execute_result"
    }
   ],
   "source": [
    "b"
   ]
  },
  {
   "cell_type": "code",
   "execution_count": 157,
   "id": "0358278e-84bf-4e53-8ea1-c9b331980841",
   "metadata": {},
   "outputs": [
    {
     "data": {
      "text/plain": [
       "array([2, 4, 5, 6])"
      ]
     },
     "execution_count": 157,
     "metadata": {},
     "output_type": "execute_result"
    }
   ],
   "source": [
    "a"
   ]
  },
  {
   "cell_type": "code",
   "execution_count": 161,
   "id": "a29801bc-272b-41d6-a70d-f626a479d97a",
   "metadata": {},
   "outputs": [
    {
     "name": "stdout",
     "output_type": "stream",
     "text": [
      "[ 2  6 11 17]\n",
      "[23  4  5  6]\n"
     ]
    }
   ],
   "source": [
    "len(a)\n",
    "print(a.cumsum())\n",
    "a[[0]] = 23\n",
    "print(a)\n",
    "\n"
   ]
  },
  {
   "cell_type": "code",
   "execution_count": 176,
   "id": "a1a8a418-5023-4e30-8a2d-5bad5b1be492",
   "metadata": {},
   "outputs": [
    {
     "data": {
      "text/plain": [
       "array([ 4,  5,  6, 23])"
      ]
     },
     "execution_count": 176,
     "metadata": {},
     "output_type": "execute_result"
    }
   ],
   "source": [
    "a.sort()\n",
    "a"
   ]
  },
  {
   "cell_type": "code",
   "execution_count": 190,
   "id": "ba829c68-0291-4b36-af91-4990a205be73",
   "metadata": {},
   "outputs": [
    {
     "name": "stdout",
     "output_type": "stream",
     "text": [
      "[ 4  5  6 23  1  2 70]\n",
      "[ 5  6 23]\n",
      "[ 4  3  5  6 23]\n"
     ]
    }
   ],
   "source": [
    "np.log(a)\n",
    "\n",
    "print(np.append(a,[1,2,70]))\n",
    "\n",
    "print(np.delete(a,[0]))\n",
    "print(np.insert(a,1,3))\n"
   ]
  },
  {
   "cell_type": "code",
   "execution_count": 211,
   "id": "02b3310f-05fa-4033-8f04-2f46c5268610",
   "metadata": {},
   "outputs": [
    {
     "data": {
      "text/html": [
       "<div>\n",
       "<style scoped>\n",
       "    .dataframe tbody tr th:only-of-type {\n",
       "        vertical-align: middle;\n",
       "    }\n",
       "\n",
       "    .dataframe tbody tr th {\n",
       "        vertical-align: top;\n",
       "    }\n",
       "\n",
       "    .dataframe thead th {\n",
       "        text-align: right;\n",
       "    }\n",
       "</style>\n",
       "<table border=\"1\" class=\"dataframe\">\n",
       "  <thead>\n",
       "    <tr style=\"text-align: right;\">\n",
       "      <th></th>\n",
       "      <th>Symbol</th>\n",
       "      <th>Date</th>\n",
       "      <th>Open</th>\n",
       "      <th>High</th>\n",
       "      <th>Low</th>\n",
       "      <th>Close</th>\n",
       "      <th>Adj Close</th>\n",
       "      <th>Volume</th>\n",
       "    </tr>\n",
       "  </thead>\n",
       "  <tbody>\n",
       "    <tr>\n",
       "      <th>0</th>\n",
       "      <td>AAPL</td>\n",
       "      <td>1980-12-12</td>\n",
       "      <td>0.513393</td>\n",
       "      <td>0.515625</td>\n",
       "      <td>0.513393</td>\n",
       "      <td>0.513393</td>\n",
       "      <td>0.023106</td>\n",
       "      <td>117258400</td>\n",
       "    </tr>\n",
       "    <tr>\n",
       "      <th>1</th>\n",
       "      <td>AAPL</td>\n",
       "      <td>1980-12-15</td>\n",
       "      <td>0.488839</td>\n",
       "      <td>0.488839</td>\n",
       "      <td>0.486607</td>\n",
       "      <td>0.486607</td>\n",
       "      <td>0.021900</td>\n",
       "      <td>43971200</td>\n",
       "    </tr>\n",
       "    <tr>\n",
       "      <th>2</th>\n",
       "      <td>AAPL</td>\n",
       "      <td>1980-12-16</td>\n",
       "      <td>0.453125</td>\n",
       "      <td>0.453125</td>\n",
       "      <td>0.450893</td>\n",
       "      <td>0.450893</td>\n",
       "      <td>0.020293</td>\n",
       "      <td>26432000</td>\n",
       "    </tr>\n",
       "    <tr>\n",
       "      <th>3</th>\n",
       "      <td>AAPL</td>\n",
       "      <td>1980-12-17</td>\n",
       "      <td>0.462054</td>\n",
       "      <td>0.464286</td>\n",
       "      <td>0.462054</td>\n",
       "      <td>0.462054</td>\n",
       "      <td>0.020795</td>\n",
       "      <td>21610400</td>\n",
       "    </tr>\n",
       "    <tr>\n",
       "      <th>4</th>\n",
       "      <td>AAPL</td>\n",
       "      <td>1980-12-18</td>\n",
       "      <td>0.475446</td>\n",
       "      <td>0.477679</td>\n",
       "      <td>0.475446</td>\n",
       "      <td>0.475446</td>\n",
       "      <td>0.021398</td>\n",
       "      <td>18362400</td>\n",
       "    </tr>\n",
       "    <tr>\n",
       "      <th>...</th>\n",
       "      <td>...</td>\n",
       "      <td>...</td>\n",
       "      <td>...</td>\n",
       "      <td>...</td>\n",
       "      <td>...</td>\n",
       "      <td>...</td>\n",
       "      <td>...</td>\n",
       "      <td>...</td>\n",
       "    </tr>\n",
       "    <tr>\n",
       "      <th>23100</th>\n",
       "      <td>GOOG</td>\n",
       "      <td>2018-12-10</td>\n",
       "      <td>1035.050049</td>\n",
       "      <td>1048.449951</td>\n",
       "      <td>1023.289978</td>\n",
       "      <td>1039.550049</td>\n",
       "      <td>1039.550049</td>\n",
       "      <td>1807700</td>\n",
       "    </tr>\n",
       "    <tr>\n",
       "      <th>23101</th>\n",
       "      <td>GOOG</td>\n",
       "      <td>2018-12-11</td>\n",
       "      <td>1056.489990</td>\n",
       "      <td>1060.599976</td>\n",
       "      <td>1039.839966</td>\n",
       "      <td>1051.750000</td>\n",
       "      <td>1051.750000</td>\n",
       "      <td>1394700</td>\n",
       "    </tr>\n",
       "    <tr>\n",
       "      <th>23102</th>\n",
       "      <td>GOOG</td>\n",
       "      <td>2018-12-12</td>\n",
       "      <td>1068.000000</td>\n",
       "      <td>1081.650024</td>\n",
       "      <td>1062.790039</td>\n",
       "      <td>1063.680054</td>\n",
       "      <td>1063.680054</td>\n",
       "      <td>1523800</td>\n",
       "    </tr>\n",
       "    <tr>\n",
       "      <th>23103</th>\n",
       "      <td>GOOG</td>\n",
       "      <td>2018-12-13</td>\n",
       "      <td>1068.069946</td>\n",
       "      <td>1079.760010</td>\n",
       "      <td>1053.930054</td>\n",
       "      <td>1061.900024</td>\n",
       "      <td>1061.900024</td>\n",
       "      <td>1329800</td>\n",
       "    </tr>\n",
       "    <tr>\n",
       "      <th>23104</th>\n",
       "      <td>GOOG</td>\n",
       "      <td>2018-12-14</td>\n",
       "      <td>1049.979980</td>\n",
       "      <td>1062.599976</td>\n",
       "      <td>1040.790039</td>\n",
       "      <td>1042.099976</td>\n",
       "      <td>1042.099976</td>\n",
       "      <td>1685900</td>\n",
       "    </tr>\n",
       "  </tbody>\n",
       "</table>\n",
       "<p>23105 rows × 8 columns</p>\n",
       "</div>"
      ],
      "text/plain": [
       "      Symbol        Date         Open         High          Low        Close  \\\n",
       "0       AAPL  1980-12-12     0.513393     0.515625     0.513393     0.513393   \n",
       "1       AAPL  1980-12-15     0.488839     0.488839     0.486607     0.486607   \n",
       "2       AAPL  1980-12-16     0.453125     0.453125     0.450893     0.450893   \n",
       "3       AAPL  1980-12-17     0.462054     0.464286     0.462054     0.462054   \n",
       "4       AAPL  1980-12-18     0.475446     0.477679     0.475446     0.475446   \n",
       "...      ...         ...          ...          ...          ...          ...   \n",
       "23100   GOOG  2018-12-10  1035.050049  1048.449951  1023.289978  1039.550049   \n",
       "23101   GOOG  2018-12-11  1056.489990  1060.599976  1039.839966  1051.750000   \n",
       "23102   GOOG  2018-12-12  1068.000000  1081.650024  1062.790039  1063.680054   \n",
       "23103   GOOG  2018-12-13  1068.069946  1079.760010  1053.930054  1061.900024   \n",
       "23104   GOOG  2018-12-14  1049.979980  1062.599976  1040.790039  1042.099976   \n",
       "\n",
       "         Adj Close     Volume  \n",
       "0         0.023106  117258400  \n",
       "1         0.021900   43971200  \n",
       "2         0.020293   26432000  \n",
       "3         0.020795   21610400  \n",
       "4         0.021398   18362400  \n",
       "...            ...        ...  \n",
       "23100  1039.550049    1807700  \n",
       "23101  1051.750000    1394700  \n",
       "23102  1063.680054    1523800  \n",
       "23103  1061.900024    1329800  \n",
       "23104  1042.099976    1685900  \n",
       "\n",
       "[23105 rows x 8 columns]"
      ]
     },
     "execution_count": 211,
     "metadata": {},
     "output_type": "execute_result"
    }
   ],
   "source": [
    "pd.read_csv('/home/bravo/Downloads/data-science-from-scratch-master (2)/stocks.csv')"
   ]
  },
  {
   "cell_type": "code",
   "execution_count": 215,
   "id": "beaff4e4-e9af-4462-b238-949c95d528b6",
   "metadata": {},
   "outputs": [
    {
     "name": "stdout",
     "output_type": "stream",
     "text": [
      "[(0, 1), (0, 2), (1, 2), (1, 3), (2, 3), (3, 4), (4, 5), (5, 6), (5, 7), (6, 8), (7, 8), (8, 9)]\n"
     ]
    },
    {
     "ename": "AttributeError",
     "evalue": "'list' object has no attribute 'ndim'",
     "output_type": "error",
     "traceback": [
      "\u001b[31m---------------------------------------------------------------------------\u001b[39m",
      "\u001b[31mAttributeError\u001b[39m                            Traceback (most recent call last)",
      "\u001b[36mCell\u001b[39m\u001b[36m \u001b[39m\u001b[32mIn[215]\u001b[39m\u001b[32m, line 4\u001b[39m\n\u001b[32m      1\u001b[39m friendships = [(\u001b[32m0\u001b[39m, \u001b[32m1\u001b[39m), (\u001b[32m0\u001b[39m, \u001b[32m2\u001b[39m), (\u001b[32m1\u001b[39m, \u001b[32m2\u001b[39m), (\u001b[32m1\u001b[39m, \u001b[32m3\u001b[39m), (\u001b[32m2\u001b[39m, \u001b[32m3\u001b[39m), (\u001b[32m3\u001b[39m, \u001b[32m4\u001b[39m),\n\u001b[32m      2\u001b[39m                (\u001b[32m4\u001b[39m, \u001b[32m5\u001b[39m), (\u001b[32m5\u001b[39m, \u001b[32m6\u001b[39m), (\u001b[32m5\u001b[39m, \u001b[32m7\u001b[39m), (\u001b[32m6\u001b[39m, \u001b[32m8\u001b[39m), (\u001b[32m7\u001b[39m, \u001b[32m8\u001b[39m), (\u001b[32m8\u001b[39m, \u001b[32m9\u001b[39m)]\n\u001b[32m      3\u001b[39m \u001b[38;5;28mprint\u001b[39m(friendships)\n\u001b[32m----> \u001b[39m\u001b[32m4\u001b[39m \u001b[43mfriendships\u001b[49m\u001b[43m.\u001b[49m\u001b[43mndim\u001b[49m\n",
      "\u001b[31mAttributeError\u001b[39m: 'list' object has no attribute 'ndim'"
     ]
    }
   ],
   "source": [
    "\n",
    "friendships = [(0, 1), (0, 2), (1, 2), (1, 3), (2, 3), (3, 4),\n",
    "               (4, 5), (5, 6), (5, 7), (6, 8), (7, 8), (8, 9)]\n",
    "print(friendships)\n"
   ]
  },
  {
   "cell_type": "code",
   "execution_count": null,
   "id": "54f0a3eb-15c9-42a7-a4c5-e1ba7b078e39",
   "metadata": {},
   "outputs": [],
   "source": []
  }
 ],
 "metadata": {
  "kernelspec": {
   "display_name": "Python 3 (ipykernel)",
   "language": "python",
   "name": "python3"
  },
  "language_info": {
   "codemirror_mode": {
    "name": "ipython",
    "version": 3
   },
   "file_extension": ".py",
   "mimetype": "text/x-python",
   "name": "python",
   "nbconvert_exporter": "python",
   "pygments_lexer": "ipython3",
   "version": "3.13.5"
  }
 },
 "nbformat": 4,
 "nbformat_minor": 5
}
