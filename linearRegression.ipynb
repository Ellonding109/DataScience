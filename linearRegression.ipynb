{
 "cells": [
  {
   "cell_type": "code",
   "execution_count": null,
   "id": "7c4ad545",
   "metadata": {},
   "outputs": [
    {
     "ename": "",
     "evalue": "",
     "output_type": "error",
     "traceback": [
      "\u001b[1;31mRunning cells with 'Python 3.13.3' requires the ipykernel package.\n",
      "\u001b[1;31m<a href='command:jupyter.createPythonEnvAndSelectController'>Create a Python Environment</a> with the required packages.\n",
      "\u001b[1;31mOr install 'ipykernel' using the command: '/bin/python -m pip install ipykernel -U --user --force-reinstall'"
     ]
    }
   ],
   "source": [
    "import pandas as pd \n",
    "import sklearn\n",
    "from sklearn.linear_model import LinearRegression\n",
    "import os\n",
    "import numpy as np\n"
   ]
  },
  {
   "cell_type": "markdown",
   "id": "de164614",
   "metadata": {},
   "source": [
    "# predicting using linear regression \n"
   ]
  },
  {
   "cell_type": "code",
   "execution_count": null,
   "id": "9d6bbe4f",
   "metadata": {},
   "outputs": [],
   "source": [
    "# read the data \n",
    "os.chdir('/home/bravo/Downloads')\n",
    "data = pd.read_csv(\"AUD CPI yy - Sheet1.csv\")"
   ]
  },
  {
   "cell_type": "code",
   "execution_count": null,
   "id": "b0b10f1e",
   "metadata": {},
   "outputs": [],
   "source": [
    "data"
   ]
  },
  {
   "cell_type": "code",
   "execution_count": null,
   "id": "1a190bce",
   "metadata": {},
   "outputs": [],
   "source": [
    "# Check for the missing values \n",
    "data.isnull().sum()"
   ]
  },
  {
   "cell_type": "code",
   "execution_count": null,
   "id": "02a12202",
   "metadata": {},
   "outputs": [],
   "source": [
    "# convert the data to a dataframe \n",
    "df = pd.DataFrame(data)\n",
    "print(df)"
   ]
  },
  {
   "cell_type": "code",
   "execution_count": null,
   "id": "16b020ab",
   "metadata": {},
   "outputs": [],
   "source": [
    "# clean the %%!\n",
    "\n",
    "df['ACTUAL DATA'] = df['ACTUAL DATA'].replace('%', '', regex=False).astype(float)\n",
    "df['FORECAST  DATA'] = df['FORECAST  DATA'].str.replace('%', '', regex=False).astype(float)\n",
    "#Drop or eliminate the null rows\n",
    "\n",
    "\n",
    "training_data = df.dropna(subset='ACTUAL DATA')\n",
    "print(training_data)"
   ]
  },
  {
   "cell_type": "markdown",
   "id": "28a401ba",
   "metadata": {},
   "source": []
  },
  {
   "cell_type": "markdown",
   "id": "bbbbb951",
   "metadata": {},
   "source": [
    "## phone = 0769985546\n"
   ]
  },
  {
   "cell_type": "code",
   "execution_count": null,
   "id": "a2720738",
   "metadata": {},
   "outputs": [],
   "source": [
    "# define the feature and the target data \n",
    "\n",
    "# conver the dataset values to float\n",
    "\n",
    "X = training_data[['FORECAST  DATA']] # FEATURE\n",
    "Y = training_data['ACTUAL DATA'] # target data\n",
    "model = LinearRegression()\n",
    "model.fit(X, Y)\n",
    "\n",
    "forcast = np.array([[2.90]])\n",
    "\n"
   ]
  },
  {
   "cell_type": "code",
   "execution_count": null,
   "id": "2632d8d2",
   "metadata": {},
   "outputs": [],
   "source": []
  }
 ],
 "metadata": {
  "kernelspec": {
   "display_name": "Python 3",
   "language": "python",
   "name": "python3"
  },
  "language_info": {
   "codemirror_mode": {
    "name": "ipython",
    "version": 3
   },
   "file_extension": ".py",
   "mimetype": "text/x-python",
   "name": "python",
   "nbconvert_exporter": "python",
   "pygments_lexer": "ipython3",
   "version": "3.13.3"
  }
 },
 "nbformat": 4,
 "nbformat_minor": 5
}
